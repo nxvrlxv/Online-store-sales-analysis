{
 "cells": [
  {
   "cell_type": "code",
   "execution_count": 2,
   "id": "11291be1-795d-415e-8867-f6585f1708d5",
   "metadata": {},
   "outputs": [],
   "source": [
    "import numpy as np\n",
    "import pandas as pd\n",
    "import matplotlib.pyplot as plt\n",
    "import seaborn as sns"
   ]
  },
  {
   "cell_type": "code",
   "execution_count": 3,
   "id": "dba47383-6960-4eb7-af72-daf532a7dd6a",
   "metadata": {},
   "outputs": [
    {
     "data": {
      "text/html": [
       "<div>\n",
       "<style scoped>\n",
       "    .dataframe tbody tr th:only-of-type {\n",
       "        vertical-align: middle;\n",
       "    }\n",
       "\n",
       "    .dataframe tbody tr th {\n",
       "        vertical-align: top;\n",
       "    }\n",
       "\n",
       "    .dataframe thead th {\n",
       "        text-align: right;\n",
       "    }\n",
       "</style>\n",
       "<table border=\"1\" class=\"dataframe\">\n",
       "  <thead>\n",
       "    <tr style=\"text-align: right;\">\n",
       "      <th></th>\n",
       "      <th>InvoiceNo</th>\n",
       "      <th>StockCode</th>\n",
       "      <th>Description</th>\n",
       "      <th>Quantity</th>\n",
       "      <th>InvoiceDate</th>\n",
       "      <th>UnitPrice</th>\n",
       "      <th>CustomerID</th>\n",
       "      <th>Country</th>\n",
       "    </tr>\n",
       "  </thead>\n",
       "  <tbody>\n",
       "    <tr>\n",
       "      <th>0</th>\n",
       "      <td>536365</td>\n",
       "      <td>85123A</td>\n",
       "      <td>WHITE HANGING HEART T-LIGHT HOLDER</td>\n",
       "      <td>6</td>\n",
       "      <td>12/1/2010 8:26</td>\n",
       "      <td>2.55</td>\n",
       "      <td>17850.0</td>\n",
       "      <td>United Kingdom</td>\n",
       "    </tr>\n",
       "    <tr>\n",
       "      <th>1</th>\n",
       "      <td>536365</td>\n",
       "      <td>71053</td>\n",
       "      <td>WHITE METAL LANTERN</td>\n",
       "      <td>6</td>\n",
       "      <td>12/1/2010 8:26</td>\n",
       "      <td>3.39</td>\n",
       "      <td>17850.0</td>\n",
       "      <td>United Kingdom</td>\n",
       "    </tr>\n",
       "    <tr>\n",
       "      <th>2</th>\n",
       "      <td>536365</td>\n",
       "      <td>84406B</td>\n",
       "      <td>CREAM CUPID HEARTS COAT HANGER</td>\n",
       "      <td>8</td>\n",
       "      <td>12/1/2010 8:26</td>\n",
       "      <td>2.75</td>\n",
       "      <td>17850.0</td>\n",
       "      <td>United Kingdom</td>\n",
       "    </tr>\n",
       "    <tr>\n",
       "      <th>3</th>\n",
       "      <td>536365</td>\n",
       "      <td>84029G</td>\n",
       "      <td>KNITTED UNION FLAG HOT WATER BOTTLE</td>\n",
       "      <td>6</td>\n",
       "      <td>12/1/2010 8:26</td>\n",
       "      <td>3.39</td>\n",
       "      <td>17850.0</td>\n",
       "      <td>United Kingdom</td>\n",
       "    </tr>\n",
       "    <tr>\n",
       "      <th>4</th>\n",
       "      <td>536365</td>\n",
       "      <td>84029E</td>\n",
       "      <td>RED WOOLLY HOTTIE WHITE HEART.</td>\n",
       "      <td>6</td>\n",
       "      <td>12/1/2010 8:26</td>\n",
       "      <td>3.39</td>\n",
       "      <td>17850.0</td>\n",
       "      <td>United Kingdom</td>\n",
       "    </tr>\n",
       "  </tbody>\n",
       "</table>\n",
       "</div>"
      ],
      "text/plain": [
       "  InvoiceNo StockCode                          Description  Quantity  \\\n",
       "0    536365    85123A   WHITE HANGING HEART T-LIGHT HOLDER         6   \n",
       "1    536365     71053                  WHITE METAL LANTERN         6   \n",
       "2    536365    84406B       CREAM CUPID HEARTS COAT HANGER         8   \n",
       "3    536365    84029G  KNITTED UNION FLAG HOT WATER BOTTLE         6   \n",
       "4    536365    84029E       RED WOOLLY HOTTIE WHITE HEART.         6   \n",
       "\n",
       "      InvoiceDate  UnitPrice  CustomerID         Country  \n",
       "0  12/1/2010 8:26       2.55     17850.0  United Kingdom  \n",
       "1  12/1/2010 8:26       3.39     17850.0  United Kingdom  \n",
       "2  12/1/2010 8:26       2.75     17850.0  United Kingdom  \n",
       "3  12/1/2010 8:26       3.39     17850.0  United Kingdom  \n",
       "4  12/1/2010 8:26       3.39     17850.0  United Kingdom  "
      ]
     },
     "execution_count": 3,
     "metadata": {},
     "output_type": "execute_result"
    }
   ],
   "source": [
    "df = pd.read_csv('OnlineRetail.csv', encoding='ISO-8859-1')\n",
    "df.head()"
   ]
  },
  {
   "cell_type": "markdown",
   "id": "03ff16d0-d1b4-4c76-98de-737e5ea35863",
   "metadata": {},
   "source": [
    "Выведем информацию по типам в данном датасете"
   ]
  },
  {
   "cell_type": "code",
   "execution_count": 4,
   "id": "46ba1f81-fce5-4d06-acd5-133854e60f78",
   "metadata": {},
   "outputs": [
    {
     "name": "stdout",
     "output_type": "stream",
     "text": [
      "<class 'pandas.core.frame.DataFrame'>\n",
      "RangeIndex: 541909 entries, 0 to 541908\n",
      "Data columns (total 8 columns):\n",
      " #   Column       Non-Null Count   Dtype  \n",
      "---  ------       --------------   -----  \n",
      " 0   InvoiceNo    541909 non-null  object \n",
      " 1   StockCode    541909 non-null  object \n",
      " 2   Description  540455 non-null  object \n",
      " 3   Quantity     541909 non-null  int64  \n",
      " 4   InvoiceDate  541909 non-null  object \n",
      " 5   UnitPrice    541909 non-null  float64\n",
      " 6   CustomerID   406829 non-null  float64\n",
      " 7   Country      541909 non-null  object \n",
      "dtypes: float64(2), int64(1), object(5)\n",
      "memory usage: 33.1+ MB\n"
     ]
    }
   ],
   "source": [
    "df.info()"
   ]
  },
  {
   "cell_type": "markdown",
   "id": "3f17985d-08a4-4f8e-a7e0-6320ae4facea",
   "metadata": {},
   "source": [
    "В данном датасете 8 признаков:\n",
    "Категориальные признаки:\n",
    "1. Description - описание товара\n",
    "2. Country - Страна, из которой совершалась покупка\n",
    "3. InvoiceDate - дата заказа\n",
    "4. InvoiceNo - номер заказа\n",
    "5. StockCode - код товара\n",
    "6. CustomerID - ID клиента\n",
    "\n",
    "Количественные признаки:\n",
    "1. Quantity - количество товара\n",
    "2. UnitPrice - цена одной единицы товара"
   ]
  },
  {
   "cell_type": "markdown",
   "id": "625d0112-19c4-4590-ad4c-7d3f53620e8b",
   "metadata": {},
   "source": [
    "Посмотрим количество строк в датасете"
   ]
  },
  {
   "cell_type": "code",
   "execution_count": 5,
   "id": "b6436b9c-e648-43c8-9322-8abc5c8ee99c",
   "metadata": {},
   "outputs": [
    {
     "data": {
      "text/plain": [
       "(541909, 8)"
      ]
     },
     "execution_count": 5,
     "metadata": {},
     "output_type": "execute_result"
    }
   ],
   "source": [
    "df.shape"
   ]
  },
  {
   "cell_type": "markdown",
   "id": "77253012-ac23-4579-b13f-e7677d07af45",
   "metadata": {},
   "source": [
    "Исследуем датасет на пропуски в столбцах"
   ]
  },
  {
   "cell_type": "code",
   "execution_count": 6,
   "id": "e71e52db-ecdd-4035-8cca-6fca10e4da4d",
   "metadata": {},
   "outputs": [
    {
     "data": {
      "text/plain": [
       "InvoiceNo           0\n",
       "StockCode           0\n",
       "Description      1454\n",
       "Quantity            0\n",
       "InvoiceDate         0\n",
       "UnitPrice           0\n",
       "CustomerID     135080\n",
       "Country             0\n",
       "dtype: int64"
      ]
     },
     "execution_count": 6,
     "metadata": {},
     "output_type": "execute_result"
    }
   ],
   "source": [
    "df.isna().sum()"
   ]
  },
  {
   "cell_type": "markdown",
   "id": "fcfe8607-fe3c-4ea5-afb0-c9f5bd5eb50e",
   "metadata": {},
   "source": [
    "Удалим пропуски, так как нам необхобимо работать с полными данными"
   ]
  },
  {
   "cell_type": "code",
   "execution_count": 7,
   "id": "4a5a1ee4-afd5-4899-96c9-56b915e34478",
   "metadata": {},
   "outputs": [
    {
     "data": {
      "text/plain": [
       "InvoiceNo      0\n",
       "StockCode      0\n",
       "Description    0\n",
       "Quantity       0\n",
       "InvoiceDate    0\n",
       "UnitPrice      0\n",
       "CustomerID     0\n",
       "Country        0\n",
       "dtype: int64"
      ]
     },
     "execution_count": 7,
     "metadata": {},
     "output_type": "execute_result"
    }
   ],
   "source": [
    "df = df.dropna(subset=['CustomerID','Description'])\n",
    "df.isna().sum()"
   ]
  },
  {
   "cell_type": "markdown",
   "id": "7fa4921d-e8c2-4f16-9f18-5f58936e1f85",
   "metadata": {},
   "source": [
    "Проведем анализ количества покупок в магазине"
   ]
  },
  {
   "cell_type": "code",
   "execution_count": 8,
   "id": "350b945c-a571-416c-a8ec-38b1b6db328e",
   "metadata": {},
   "outputs": [
    {
     "data": {
      "text/plain": [
       "array([     6,      8,      2,     32,      3,      4,     24,     12,\n",
       "           48,     18,     20,     36,     80,     64,     10,    120,\n",
       "           96,     23,      5,      1,     -1,     50,     40,    100,\n",
       "          192,    432,    144,    288,    -12,    -24,     16,      9,\n",
       "          128,     25,     30,     28,      7,     72,    200,    600,\n",
       "          480,     -6,     14,     -2,     -4,     -5,     -7,     -3,\n",
       "           11,     70,    252,     60,    216,    384,     27,    108,\n",
       "           52,  -9360,     75,    270,     42,    240,     90,    320,\n",
       "           17,   1824,    204,     69,    -36,   -192,   -144,    160,\n",
       "         2880,   1400,     19,     39,    -48,    -50,     56,     13,\n",
       "         1440,     -8,     15,    720,    -20,    156,    324,     41,\n",
       "          -10,    -72,    -11,    402,    378,    150,    300,     22,\n",
       "           34,    408,    972,    208,   1008,     26,   1000,    -25,\n",
       "         1488,    250,   1394,    400,    110,    -14,     37,    -33,\n",
       "           78,     -9,     21,    272,     84,    -47,    -18,    -96,\n",
       "           47,    -15,    -30,   1728,     38,    -60,    -16,     53,\n",
       "         -240,     76,    576,    -32,     29,   2400,    500,    -80,\n",
       "          180,   -300,   -500,    -23,    -13,    960,    -21,   1296,\n",
       "         -150,    -17,    147,    168,    256,    -40,   -100,     54,\n",
       "           31,    860,   1010,   1356,   1284,    186,    114,    360,\n",
       "         1930,   2000,   3114,   1300,    670,    176,    648,     62,\n",
       "        74215, -74215,     89,     33,     46,   -120,    112,    456,\n",
       "          900,   -600,    -42,    -94,     45,    130,   2592,    420,\n",
       "          800,     35,   1200,    864,    504,    -76,   -200,   1056,\n",
       "         1500,    280,    407,    141,   3906,   1152,    198,    117,\n",
       "         -720,    125,    -86,     81,    -35,    768,     88,     43,\n",
       "          700,   -102,   2160,     55,    -49,    342,    304,    640,\n",
       "          220,    350,    -46,    -64,    312,    392,   -624,    -27,\n",
       "          330,    151,   -432,    -58,     44,   -670,  -1300,  -1930,\n",
       "        -2000,  -3114,    462,     66,    492,    273,     65,     85,\n",
       "          -51,   -960,   1350,    428,  -1350,    336,    101,    132,\n",
       "          227,   2700,    222,    228,    246,    906,    756,    888,\n",
       "          552,    224,    738,    608,   4300,    276,    -52,     58,\n",
       "           98,     51,     74,   1600,    323,    -22,   1515,  -1515,\n",
       "          660,    104,   -420,    264,    188,    588,    612,    152,\n",
       "          -19,   -480,     49,   -164,   -160,    430,    701,    828,\n",
       "          540,    696,    560,   -576,   -108,   -250,   -408,    121,\n",
       "          512,    -37,    291,   3186,     83,     87,     79,   -360,\n",
       "          -28,    -75,    109,   -121,    129,    261,    352,    102,\n",
       "         -288,    348,   1900,    157,    -39,    116,    968,    684,\n",
       "          824,   -828,   -701,    196,    124,    248,    410,    236,\n",
       "          230,    210,    448,   -140,   -400,   -252,   -110,   -334,\n",
       "         -318,   -126,   -113,   -180,    140,     86,    840,    -38,\n",
       "          450,     93,    494,     92,   1788,    624,    744,    416,\n",
       "          496,    396,    306,   1878,   1944,    666,    708,   1428,\n",
       "          852,   1412,    528,   -756,   -152,    -85,    -34,   -312,\n",
       "          -79,    -43,    -31,    183,   -186,    -53,    -82,    -70,\n",
       "          -68,   1540,  -1200,   -130,   -220,    672,    -26,    -29,\n",
       "           67,   -840,  -1296,     63,     94,    255,     57,    126,\n",
       "          468,   -468,   -324,   -168,   4800,    -66,   -112,    912,\n",
       "         1992,    136,   3000,    -45,    232,    832,    992,    630,\n",
       "         1020,   2100,    162,   -162,    -67,   -276,   -184,    234,\n",
       "          244,   -244,   -234,   -132,  12540,     95,    760,    139,\n",
       "          115,    774,   2040,   1120,     59,    490,    388,    620,\n",
       "         1404,    698,  80995, -80995])"
      ]
     },
     "execution_count": 8,
     "metadata": {},
     "output_type": "execute_result"
    }
   ],
   "source": [
    "df['Quantity'].unique()"
   ]
  },
  {
   "cell_type": "markdown",
   "id": "a9f0df50-eb81-43a8-ad3e-8d8b420b1f21",
   "metadata": {},
   "source": [
    "Скорее всего, отрицательными значениями являются возвраты. Составим отдельный датасет из возвратов и очистим текущий от них"
   ]
  },
  {
   "cell_type": "code",
   "execution_count": 9,
   "id": "baeb15da-f39d-4677-92d1-b2dbdf152385",
   "metadata": {},
   "outputs": [],
   "source": [
    "df_back = df[df['Quantity'] <= 0]\n",
    "df = df[df['Quantity'] > 0]\n",
    "# переделаем тип данных столбца CustomerID на int\n",
    "df['CustomerID'] = df['CustomerID'].astype(int)"
   ]
  },
  {
   "cell_type": "markdown",
   "id": "e6c660e9-84dd-4d8f-ba65-a3da115086b9",
   "metadata": {},
   "source": [
    "Теперь посмотрим на выбросные значения по стоимости заказов. Выбросными значениями будем считать значения, которые не попадают в интервал   \n",
    "[1 квартиль - 1,5 * IQR; 3 квартиль + 1,5 * IQR], где IQR - межквартильный размах."
   ]
  },
  {
   "cell_type": "code",
   "execution_count": 10,
   "id": "347a3e87-fb38-405b-803a-81c58e0fcbb6",
   "metadata": {},
   "outputs": [
    {
     "data": {
      "text/html": [
       "<div>\n",
       "<style scoped>\n",
       "    .dataframe tbody tr th:only-of-type {\n",
       "        vertical-align: middle;\n",
       "    }\n",
       "\n",
       "    .dataframe tbody tr th {\n",
       "        vertical-align: top;\n",
       "    }\n",
       "\n",
       "    .dataframe thead th {\n",
       "        text-align: right;\n",
       "    }\n",
       "</style>\n",
       "<table border=\"1\" class=\"dataframe\">\n",
       "  <thead>\n",
       "    <tr style=\"text-align: right;\">\n",
       "      <th></th>\n",
       "      <th>InvoiceNo</th>\n",
       "      <th>Total_Price</th>\n",
       "    </tr>\n",
       "  </thead>\n",
       "  <tbody>\n",
       "    <tr>\n",
       "      <th>0</th>\n",
       "      <td>536365</td>\n",
       "      <td>139.12</td>\n",
       "    </tr>\n",
       "    <tr>\n",
       "      <th>1</th>\n",
       "      <td>536366</td>\n",
       "      <td>22.20</td>\n",
       "    </tr>\n",
       "    <tr>\n",
       "      <th>2</th>\n",
       "      <td>536367</td>\n",
       "      <td>278.73</td>\n",
       "    </tr>\n",
       "    <tr>\n",
       "      <th>3</th>\n",
       "      <td>536368</td>\n",
       "      <td>70.05</td>\n",
       "    </tr>\n",
       "    <tr>\n",
       "      <th>4</th>\n",
       "      <td>536369</td>\n",
       "      <td>17.85</td>\n",
       "    </tr>\n",
       "  </tbody>\n",
       "</table>\n",
       "</div>"
      ],
      "text/plain": [
       "  InvoiceNo  Total_Price\n",
       "0    536365       139.12\n",
       "1    536366        22.20\n",
       "2    536367       278.73\n",
       "3    536368        70.05\n",
       "4    536369        17.85"
      ]
     },
     "execution_count": 10,
     "metadata": {},
     "output_type": "execute_result"
    }
   ],
   "source": [
    "#Формируем датасет стоимости заказов\n",
    "df['Total_Price'] = df['Quantity'] * df['UnitPrice']\n",
    "invoices_pricelist = df.groupby('InvoiceNo')['Total_Price'].sum().reset_index()\n",
    "invoices_pricelist.head()"
   ]
  },
  {
   "cell_type": "code",
   "execution_count": 11,
   "id": "f2001fb9-0091-4fd9-a508-f33d90047225",
   "metadata": {},
   "outputs": [
    {
     "data": {
      "text/plain": [
       "1466"
      ]
     },
     "execution_count": 11,
     "metadata": {},
     "output_type": "execute_result"
    }
   ],
   "source": [
    "q_1 = invoices_pricelist['Total_Price'].quantile(0.25)\n",
    "q_3 = invoices_pricelist['Total_Price'].quantile(0.75)\n",
    "IQR = q_3 - q_1\n",
    "\n",
    "upper = q_3 + 1.5*IQR\n",
    "lower = q_1 - 1.5*IQR\n",
    "\n",
    "outliers = invoices_pricelist[(invoices_pricelist['Total_Price'] < lower) | (invoices_pricelist['Total_Price'] > upper)]\n",
    "len(outliers)"
   ]
  },
  {
   "cell_type": "markdown",
   "id": "6cf51a77-13b9-4a94-ad80-f7906aa03547",
   "metadata": {},
   "source": [
    " Как мы видим, в данном датасете 1466 выбросов. Посмотрим, как это выглядит на графике"
   ]
  },
  {
   "cell_type": "code",
   "execution_count": 12,
   "id": "1d550ffe-09f9-47b8-ad6e-31d75f78029b",
   "metadata": {},
   "outputs": [
    {
     "data": {
      "image/png": "[encoded data removed]",
      "text/plain": [
       "<Figure size 800x600 with 1 Axes>"
      ]
     },
     "metadata": {},
     "output_type": "display_data"
    }
   ],
   "source": [
    "plt.figure(figsize=(8,6))\n",
    "plt.boxplot(invoices_pricelist['Total_Price'], vert=False)\n",
    "plt.title('Ящик с усами для сумм заказов')\n",
    "plt.xlabel('Сумма заказа (TotalPrice)')\n",
    "plt.grid(True)"
   ]
  },
  {
   "cell_type": "code",
   "execution_count": 13,
   "id": "e8259615-d6f1-496c-b3b3-5f5a35e079be",
   "metadata": {},
   "outputs": [
    {
     "data": {
      "text/plain": [
       "np.float64(168469.6)"
      ]
     },
     "execution_count": 13,
     "metadata": {},
     "output_type": "execute_result"
    }
   ],
   "source": [
    "invoices_pricelist['Total_Price'].max()"
   ]
  },
  {
   "cell_type": "markdown",
   "id": "291bced7-c25f-4fec-a8f8-f3d1da822ce3",
   "metadata": {},
   "source": [
    "Очень большое скопление выбросов, можно посмотреть на распределение заказов на столбчатой диаграмме"
   ]
  },
  {
   "cell_type": "code",
   "execution_count": 14,
   "id": "0e8f09cf-263b-4554-b6cc-f7ef3f6fdc44",
   "metadata": {},
   "outputs": [
    {
     "data": {
      "image/png": "[encoded data removed]",
      "text/plain": [
       "<Figure size 1000x600 with 1 Axes>"
      ]
     },
     "metadata": {},
     "output_type": "display_data"
    }
   ],
   "source": [
    "plt.figure(figsize=(10, 6))\n",
    "plt.hist(invoices_pricelist['Total_Price'], bins=50, edgecolor='black')\n",
    "plt.title('Гистограмма сумм заказов')\n",
    "plt.xlabel('Сумма заказа (Total_Invoice_Price)')\n",
    "plt.ylabel('Количество заказов')\n",
    "plt.show()"
   ]
  },
  {
   "cell_type": "markdown",
   "id": "94757ae9-8c0e-4fb0-9244-7525c8895a54",
   "metadata": {},
   "source": [
    "Из графика видно точно, что самое большое скопление заказов на небольшие суммы, поэтому нужно избавиться от больших заказов. Но для начала посмотрим как гистограмма выглядит на промежутке от 0 до 250000"
   ]
  },
  {
   "cell_type": "code",
   "execution_count": 15,
   "id": "a576e7a0-d968-4bea-9ffd-eca905d141a0",
   "metadata": {},
   "outputs": [
    {
     "data": {
      "image/png": "[encoded data removed]",
      "text/plain": [
       "<Figure size 1000x600 with 1 Axes>"
      ]
     },
     "metadata": {},
     "output_type": "display_data"
    }
   ],
   "source": [
    "plt.figure(figsize=(10, 6))\n",
    "plt.hist(invoices_pricelist['Total_Price'], bins=50, range=(0, 5000), edgecolor='black')\n",
    "plt.title('Гистограмма сумм заказов')\n",
    "plt.xlabel('Сумма заказа (Total_Invoice_Price)')\n",
    "plt.ylabel('Количество заказов')\n",
    "plt.show()"
   ]
  },
  {
   "cell_type": "markdown",
   "id": "e5fcd814-2603-4623-a0f3-3274d0acd0bd",
   "metadata": {},
   "source": [
    "как видно из гистограммы выше, большая часть заказов имеет стоимость ниже 1000. Теперь же избавимся наконец от выбросных значений."
   ]
  },
  {
   "cell_type": "code",
   "execution_count": 16,
   "id": "df65dc80-95cb-4ef8-ae52-ec334f2de2b2",
   "metadata": {},
   "outputs": [],
   "source": [
    "invoices_pricelist = invoices_pricelist[(invoices_pricelist['Total_Price'] >= lower) & (invoices_pricelist['Total_Price'] <= upper)]"
   ]
  },
  {
   "cell_type": "markdown",
   "id": "ab5f4fa8-ffc5-43d7-a6f9-3685de5fdf42",
   "metadata": {},
   "source": [
    "Теперь посмотрим, как распределились данные"
   ]
  },
  {
   "cell_type": "code",
   "execution_count": 17,
   "id": "0de7fbd5-6f97-4c71-abf6-7183cddfa6cf",
   "metadata": {},
   "outputs": [
    {
     "data": {
      "image/png": "[encoded data removed]",
      "text/plain": [
       "<Figure size 1000x600 with 1 Axes>"
      ]
     },
     "metadata": {},
     "output_type": "display_data"
    }
   ],
   "source": [
    "plt.figure(figsize=(10, 6))\n",
    "plt.hist(invoices_pricelist['Total_Price'], bins=50, edgecolor='black')\n",
    "plt.title('Гистограмма сумм заказов')\n",
    "plt.xlabel('Сумма заказа (Total_Invoice_Price)')\n",
    "plt.ylabel('Количество заказов')\n",
    "plt.show()"
   ]
  },
  {
   "cell_type": "markdown",
   "id": "48ab5199-2b46-4704-8de8-816234fe72c2",
   "metadata": {},
   "source": [
    "Данные подготовлены, идем дальше"
   ]
  },
  {
   "cell_type": "markdown",
   "id": "6fdfcea3-bc26-4a71-ae7a-c9cea89fa8de",
   "metadata": {},
   "source": [
    "## Расчет основных показателей/метрик"
   ]
  },
  {
   "cell_type": "markdown",
   "id": "11d486b5-839a-4b6b-b5ee-245f4242ce81",
   "metadata": {},
   "source": [
    "Какие метрики будем считать\n",
    "\n",
    "- Общая выручка (сумма всех заказов).\n",
    "- Средний чек (средняя сумма заказа).\n",
    "- Топ-5 продуктов (по количеству проданных единиц).\n",
    "- Топ-5 стран.\n",
    "- Доля повторных клиентов (Retention Rate)."
   ]
  },
  {
   "cell_type": "markdown",
   "id": "de4f7046-4dab-43a1-931e-c9248eb76e5b",
   "metadata": {},
   "source": [
    "Общая выручка:"
   ]
  },
  {
   "cell_type": "code",
   "execution_count": 18,
   "id": "f6c903d9-131d-4177-8698-678ceaaa9e03",
   "metadata": {},
   "outputs": [
    {
     "data": {
      "text/plain": [
       "np.float64(8911407.904)"
      ]
     },
     "execution_count": 18,
     "metadata": {},
     "output_type": "execute_result"
    }
   ],
   "source": [
    "#с выбросами\n",
    "revenue_v = df['Total_Price'].sum()\n",
    "revenue_v"
   ]
  },
  {
   "cell_type": "code",
   "execution_count": 19,
   "id": "2cfcd60e-1b04-4176-8cd9-a326725f639d",
   "metadata": {},
   "outputs": [
    {
     "data": {
      "text/plain": [
       "np.float64(5217243.823000001)"
      ]
     },
     "execution_count": 19,
     "metadata": {},
     "output_type": "execute_result"
    }
   ],
   "source": [
    "#без них\n",
    "revenue_s = invoices_pricelist['Total_Price'].sum()\n",
    "revenue_s"
   ]
  },
  {
   "cell_type": "markdown",
   "id": "6685d463-4d86-487f-a591-0f871b2d0037",
   "metadata": {},
   "source": [
    "Средний чек:"
   ]
  },
  {
   "cell_type": "code",
   "execution_count": 20,
   "id": "d5bbb78c-00ef-49ae-b3d4-385dd0e3f0d8",
   "metadata": {},
   "outputs": [
    {
     "data": {
      "text/plain": [
       "np.float64(305.6381852958407)"
      ]
     },
     "execution_count": 20,
     "metadata": {},
     "output_type": "execute_result"
    }
   ],
   "source": [
    "invoices_pricelist['Total_Price'].mean()"
   ]
  },
  {
   "cell_type": "markdown",
   "id": "bbb53fc4-5f47-4502-bef6-a34079b4a55c",
   "metadata": {},
   "source": [
    "Топ-5 продуктов (по количеству проданных единиц):"
   ]
  },
  {
   "cell_type": "code",
   "execution_count": 21,
   "id": "01401e12-d2f3-45dd-ba6f-85d369de150a",
   "metadata": {},
   "outputs": [
    {
     "data": {
      "text/plain": [
       "Description\n",
       "PAPER CRAFT , LITTLE BIRDIE            80995\n",
       "MEDIUM CERAMIC TOP STORAGE JAR         77916\n",
       "WORLD WAR 2 GLIDERS ASSTD DESIGNS      54415\n",
       "JUMBO BAG RED RETROSPOT                46181\n",
       "WHITE HANGING HEART T-LIGHT HOLDER     36725\n",
       "                                       ...  \n",
       "BLACK VINT ART DEC CRYSTAL BRACELET        1\n",
       "FLOWER SHOP DESIGN MUG                     1\n",
       "SET 36 COLOURING PENCILS DOILEY            1\n",
       "HEN HOUSE W CHICK IN NEST                  1\n",
       "AMBER BERTIE GLASS BEAD BAG CHARM          1\n",
       "Name: Quantity, Length: 3877, dtype: int64"
      ]
     },
     "execution_count": 21,
     "metadata": {},
     "output_type": "execute_result"
    }
   ],
   "source": [
    "df.groupby('Description')['Quantity'].sum().sort_values(ascending=False)"
   ]
  },
  {
   "cell_type": "markdown",
   "id": "aa341279-a662-463e-8580-b4dd4d03888d",
   "metadata": {},
   "source": [
    "Топ-5 продуктов по количеству проданных единиц\n",
    "\n",
    "\n",
    "1. PAPER CRAFT , LITTLE BIRDIE            \n",
    "2. MEDIUM CERAMIC TOP STORAGE JAR         \n",
    "3. WORLD WAR 2 GLIDERS ASSTD DESIGNS      \n",
    "4. JUMBO BAG RED RETROSPOT               \n",
    "5. WHITE HANGING HEART T-LIGHT HOLDER     "
   ]
  },
  {
   "cell_type": "markdown",
   "id": "2ac0dcc7-38ff-44de-89c7-40551d1a5f35",
   "metadata": {},
   "source": [
    "## Топ-5 стран "
   ]
  },
  {
   "cell_type": "code",
   "execution_count": 22,
   "id": "f4248736-31c4-4c09-b3e0-65d63f2f64d3",
   "metadata": {},
   "outputs": [],
   "source": [
    "invoice_countries = df[['InvoiceNo', 'Country']].drop_duplicates()\n",
    "invoices_pricelist = invoices_pricelist.merge(invoice_countries, on='InvoiceNo', how='left')"
   ]
  },
  {
   "cell_type": "code",
   "execution_count": null,
   "id": "9f91570b-b8c6-4e77-ae1f-dab3480c0590",
   "metadata": {},
   "outputs": [],
   "source": []
  },
  {
   "cell_type": "code",
   "execution_count": 23,
   "id": "1f99715c-f0a5-450b-ab99-82429ba429a2",
   "metadata": {},
   "outputs": [
    {
     "data": {
      "text/plain": [
       "Country\n",
       "Malta                   545.118000\n",
       "Greece                  524.820000\n",
       "Iceland                 502.613333\n",
       "USA                     500.220000\n",
       "EIRE                    483.388610\n",
       "Switzerland             477.342432\n",
       "United Arab Emirates    463.370000\n",
       "Denmark                 441.937500\n",
       "Finland                 432.043947\n",
       "Austria                 426.758462\n",
       "Czech Republic          413.370000\n",
       "Channel Islands         409.879375\n",
       "Cyprus                  408.234545\n",
       "Portugal                396.275652\n",
       "Norway                  393.614583\n",
       "France                  369.888517\n",
       "Belgium                 367.652717\n",
       "Spain                   364.216618\n",
       "Australia               362.500652\n",
       "Poland                  352.927778\n",
       "Germany                 350.924749\n",
       "Unspecified             333.383750\n",
       "European Community      325.062500\n",
       "Canada                  319.320000\n",
       "Netherlands             308.940588\n",
       "Israel                  305.710000\n",
       "Italy                   305.419688\n",
       "United Kingdom          298.405778\n",
       "Sweden                  289.958077\n",
       "Bahrain                 274.200000\n",
       "Lithuania               172.000000\n",
       "Saudi Arabia            145.920000\n",
       "Japan                   116.283750\n",
       "Name: Total_Price, dtype: float64"
      ]
     },
     "execution_count": 23,
     "metadata": {},
     "output_type": "execute_result"
    }
   ],
   "source": [
    "invoices_pricelist.groupby('Country')['Total_Price'].mean().sort_values(ascending=False)"
   ]
  },
  {
   "cell_type": "code",
   "execution_count": 24,
   "id": "9ad404e6-d3ea-4bee-b8c1-e17626c2e6c2",
   "metadata": {},
   "outputs": [
    {
     "data": {
      "text/html": [
       "<div>\n",
       "<style scoped>\n",
       "    .dataframe tbody tr th:only-of-type {\n",
       "        vertical-align: middle;\n",
       "    }\n",
       "\n",
       "    .dataframe tbody tr th {\n",
       "        vertical-align: top;\n",
       "    }\n",
       "\n",
       "    .dataframe thead th {\n",
       "        text-align: right;\n",
       "    }\n",
       "</style>\n",
       "<table border=\"1\" class=\"dataframe\">\n",
       "  <thead>\n",
       "    <tr style=\"text-align: right;\">\n",
       "      <th></th>\n",
       "      <th>InvoiceNo</th>\n",
       "      <th>Total_Price</th>\n",
       "      <th>Country</th>\n",
       "    </tr>\n",
       "  </thead>\n",
       "  <tbody>\n",
       "    <tr>\n",
       "      <th>7173</th>\n",
       "      <td>555931</td>\n",
       "      <td>833.16</td>\n",
       "      <td>Malta</td>\n",
       "    </tr>\n",
       "    <tr>\n",
       "      <th>7813</th>\n",
       "      <td>557668</td>\n",
       "      <td>30.00</td>\n",
       "      <td>Malta</td>\n",
       "    </tr>\n",
       "    <tr>\n",
       "      <th>9959</th>\n",
       "      <td>563353</td>\n",
       "      <td>905.50</td>\n",
       "      <td>Malta</td>\n",
       "    </tr>\n",
       "    <tr>\n",
       "      <th>10208</th>\n",
       "      <td>563936</td>\n",
       "      <td>213.50</td>\n",
       "      <td>Malta</td>\n",
       "    </tr>\n",
       "    <tr>\n",
       "      <th>15161</th>\n",
       "      <td>576897</td>\n",
       "      <td>743.43</td>\n",
       "      <td>Malta</td>\n",
       "    </tr>\n",
       "  </tbody>\n",
       "</table>\n",
       "</div>"
      ],
      "text/plain": [
       "      InvoiceNo  Total_Price Country\n",
       "7173     555931       833.16   Malta\n",
       "7813     557668        30.00   Malta\n",
       "9959     563353       905.50   Malta\n",
       "10208    563936       213.50   Malta\n",
       "15161    576897       743.43   Malta"
      ]
     },
     "execution_count": 24,
     "metadata": {},
     "output_type": "execute_result"
    }
   ],
   "source": [
    "invoices_pricelist[invoices_pricelist['Country'] == 'Malta']"
   ]
  },
  {
   "cell_type": "code",
   "execution_count": 25,
   "id": "ba7d3dab-3b31-485b-9ec0-3de5fc24c05e",
   "metadata": {},
   "outputs": [
    {
     "data": {
      "text/plain": [
       "Country\n",
       "United Kingdom          15555\n",
       "Germany                   398\n",
       "France                    344\n",
       "EIRE                      187\n",
       "Belgium                    92\n",
       "Spain                      68\n",
       "Netherlands                51\n",
       "Portugal                   46\n",
       "Australia                  46\n",
       "Finland                    38\n",
       "Switzerland                37\n",
       "Italy                      32\n",
       "Sweden                     26\n",
       "Norway                     24\n",
       "Poland                     18\n",
       "Channel Islands            16\n",
       "Austria                    13\n",
       "Denmark                    12\n",
       "Cyprus                     11\n",
       "Unspecified                 8\n",
       "Japan                       8\n",
       "Iceland                     6\n",
       "Malta                       5\n",
       "Greece                      4\n",
       "Canada                      4\n",
       "USA                         4\n",
       "European Community          4\n",
       "Israel                      3\n",
       "Lithuania                   3\n",
       "Czech Republic              2\n",
       "Bahrain                     2\n",
       "United Arab Emirates        2\n",
       "Saudi Arabia                1\n",
       "Name: count, dtype: int64"
      ]
     },
     "execution_count": 25,
     "metadata": {},
     "output_type": "execute_result"
    }
   ],
   "source": [
    "invoices_pricelist['Country'].value_counts()"
   ]
  },
  {
   "cell_type": "code",
   "execution_count": 26,
   "id": "4dea6d25-8d44-45df-87e1-82c65d5c587c",
   "metadata": {},
   "outputs": [
    {
     "data": {
      "text/plain": [
       "33"
      ]
     },
     "execution_count": 26,
     "metadata": {},
     "output_type": "execute_result"
    }
   ],
   "source": [
    "len(invoices_pricelist['Country'].unique())"
   ]
  },
  {
   "cell_type": "code",
   "execution_count": 27,
   "id": "0ab95157-325c-48b5-98af-05abfeb1aa3c",
   "metadata": {},
   "outputs": [],
   "source": [
    "enough_orders = invoices_pricelist['Country'].value_counts()\n",
    "countries_with_enough_orders = enough_orders[enough_orders > 12.5].index"
   ]
  },
  {
   "cell_type": "code",
   "execution_count": 28,
   "id": "2426a136-d92b-4be1-8fcb-283550fcd12f",
   "metadata": {},
   "outputs": [],
   "source": [
    "invoices_filtered = invoices_pricelist[invoices_pricelist['Country'].isin(countries_with_enough_orders)]"
   ]
  },
  {
   "cell_type": "code",
   "execution_count": 29,
   "id": "c62866f4-1d0b-4ad1-aa9c-1f8a0d816e66",
   "metadata": {},
   "outputs": [
    {
     "data": {
      "text/plain": [
       "Country\n",
       "United Kingdom     15555\n",
       "Germany              398\n",
       "France               344\n",
       "EIRE                 187\n",
       "Belgium               92\n",
       "Spain                 68\n",
       "Netherlands           51\n",
       "Australia             46\n",
       "Portugal              46\n",
       "Finland               38\n",
       "Switzerland           37\n",
       "Italy                 32\n",
       "Sweden                26\n",
       "Norway                24\n",
       "Poland                18\n",
       "Channel Islands       16\n",
       "Austria               13\n",
       "Name: count, dtype: int64"
      ]
     },
     "execution_count": 29,
     "metadata": {},
     "output_type": "execute_result"
    }
   ],
   "source": [
    "invoices_filtered['Country'].value_counts()"
   ]
  },
  {
   "cell_type": "code",
   "execution_count": 30,
   "id": "cca9bc8c-94ad-4dd1-b3a7-40a7c238583a",
   "metadata": {},
   "outputs": [
    {
     "data": {
      "text/plain": [
       "Country\n",
       "EIRE               483.388610\n",
       "Switzerland        477.342432\n",
       "Finland            432.043947\n",
       "Austria            426.758462\n",
       "Channel Islands    409.879375\n",
       "Portugal           396.275652\n",
       "Norway             393.614583\n",
       "France             369.888517\n",
       "Belgium            367.652717\n",
       "Spain              364.216618\n",
       "Australia          362.500652\n",
       "Poland             352.927778\n",
       "Germany            350.924749\n",
       "Netherlands        308.940588\n",
       "Italy              305.419688\n",
       "United Kingdom     298.405778\n",
       "Sweden             289.958077\n",
       "Name: Total_Price, dtype: float64"
      ]
     },
     "execution_count": 30,
     "metadata": {},
     "output_type": "execute_result"
    }
   ],
   "source": [
    "invoices_filtered.groupby('Country')['Total_Price'].mean().sort_values(ascending=False)"
   ]
  },
  {
   "cell_type": "markdown",
   "id": "b7d9ff57-5de4-4707-a74d-e4904ee9b3c3",
   "metadata": {},
   "source": [
    "Я убрал страны, сумма заказов в которых меньше медианного значения (12.5). Из анализа выше мы можем составить топ-5 стран по среднему чеку и по количеству заказов:"
   ]
  },
  {
   "cell_type": "markdown",
   "id": "fbe43b50-bb25-4e99-b65c-6d40f80c957f",
   "metadata": {},
   "source": [
    "Топ-5 по среднему чеку\n",
    "\n",
    "1. EIRE              со средним чеком =            483.39\n",
    "2. Switzerland       со средним чеком =       477.34\n",
    "3. Finland           со средним чеком =       432.04\n",
    "4. Austria           со средним чеком =       426.76\n",
    "5. Channel Islands   со средним чеком =   409.88"
   ]
  },
  {
   "cell_type": "markdown",
   "id": "d095c89e-2953-4546-a7a0-6bb4ac2a8574",
   "metadata": {},
   "source": [
    "Топ-5 по количеству заказов:\n",
    "\n",
    "1. United Kingdom   с количеством заказов =   15555\n",
    "2. Germany    с количеством заказов =           398\n",
    "3. France      с количеством заказов =          344\n",
    "4. EIRE        с количеством заказов =          187\n",
    "5. Belgium     с количеством заказов =           92"
   ]
  },
  {
   "cell_type": "markdown",
   "id": "4c2c2eac-f1b2-4eec-b548-170e6b1a11bf",
   "metadata": {},
   "source": [
    "## Доля повторных клиентов"
   ]
  },
  {
   "cell_type": "markdown",
   "id": "31c8d789-425b-4d20-acd5-236a7da19b4e",
   "metadata": {},
   "source": [
    "Расчитаем долю повторных клиентов в интернет-магазине"
   ]
  },
  {
   "cell_type": "code",
   "execution_count": 31,
   "id": "0cb08694-6a72-4b08-bd4d-8faf4618ea43",
   "metadata": {},
   "outputs": [
    {
     "data": {
      "text/html": [
       "<div>\n",
       "<style scoped>\n",
       "    .dataframe tbody tr th:only-of-type {\n",
       "        vertical-align: middle;\n",
       "    }\n",
       "\n",
       "    .dataframe tbody tr th {\n",
       "        vertical-align: top;\n",
       "    }\n",
       "\n",
       "    .dataframe thead th {\n",
       "        text-align: right;\n",
       "    }\n",
       "</style>\n",
       "<table border=\"1\" class=\"dataframe\">\n",
       "  <thead>\n",
       "    <tr style=\"text-align: right;\">\n",
       "      <th></th>\n",
       "      <th>InvoiceNo</th>\n",
       "      <th>StockCode</th>\n",
       "      <th>Description</th>\n",
       "      <th>Quantity</th>\n",
       "      <th>InvoiceDate</th>\n",
       "      <th>UnitPrice</th>\n",
       "      <th>CustomerID</th>\n",
       "      <th>Country</th>\n",
       "      <th>Total_Price</th>\n",
       "    </tr>\n",
       "  </thead>\n",
       "  <tbody>\n",
       "    <tr>\n",
       "      <th>0</th>\n",
       "      <td>536365</td>\n",
       "      <td>85123A</td>\n",
       "      <td>WHITE HANGING HEART T-LIGHT HOLDER</td>\n",
       "      <td>6</td>\n",
       "      <td>12/1/2010 8:26</td>\n",
       "      <td>2.55</td>\n",
       "      <td>17850</td>\n",
       "      <td>United Kingdom</td>\n",
       "      <td>15.30</td>\n",
       "    </tr>\n",
       "    <tr>\n",
       "      <th>1</th>\n",
       "      <td>536365</td>\n",
       "      <td>71053</td>\n",
       "      <td>WHITE METAL LANTERN</td>\n",
       "      <td>6</td>\n",
       "      <td>12/1/2010 8:26</td>\n",
       "      <td>3.39</td>\n",
       "      <td>17850</td>\n",
       "      <td>United Kingdom</td>\n",
       "      <td>20.34</td>\n",
       "    </tr>\n",
       "    <tr>\n",
       "      <th>2</th>\n",
       "      <td>536365</td>\n",
       "      <td>84406B</td>\n",
       "      <td>CREAM CUPID HEARTS COAT HANGER</td>\n",
       "      <td>8</td>\n",
       "      <td>12/1/2010 8:26</td>\n",
       "      <td>2.75</td>\n",
       "      <td>17850</td>\n",
       "      <td>United Kingdom</td>\n",
       "      <td>22.00</td>\n",
       "    </tr>\n",
       "    <tr>\n",
       "      <th>3</th>\n",
       "      <td>536365</td>\n",
       "      <td>84029G</td>\n",
       "      <td>KNITTED UNION FLAG HOT WATER BOTTLE</td>\n",
       "      <td>6</td>\n",
       "      <td>12/1/2010 8:26</td>\n",
       "      <td>3.39</td>\n",
       "      <td>17850</td>\n",
       "      <td>United Kingdom</td>\n",
       "      <td>20.34</td>\n",
       "    </tr>\n",
       "    <tr>\n",
       "      <th>4</th>\n",
       "      <td>536365</td>\n",
       "      <td>84029E</td>\n",
       "      <td>RED WOOLLY HOTTIE WHITE HEART.</td>\n",
       "      <td>6</td>\n",
       "      <td>12/1/2010 8:26</td>\n",
       "      <td>3.39</td>\n",
       "      <td>17850</td>\n",
       "      <td>United Kingdom</td>\n",
       "      <td>20.34</td>\n",
       "    </tr>\n",
       "  </tbody>\n",
       "</table>\n",
       "</div>"
      ],
      "text/plain": [
       "  InvoiceNo StockCode                          Description  Quantity  \\\n",
       "0    536365    85123A   WHITE HANGING HEART T-LIGHT HOLDER         6   \n",
       "1    536365     71053                  WHITE METAL LANTERN         6   \n",
       "2    536365    84406B       CREAM CUPID HEARTS COAT HANGER         8   \n",
       "3    536365    84029G  KNITTED UNION FLAG HOT WATER BOTTLE         6   \n",
       "4    536365    84029E       RED WOOLLY HOTTIE WHITE HEART.         6   \n",
       "\n",
       "      InvoiceDate  UnitPrice  CustomerID         Country  Total_Price  \n",
       "0  12/1/2010 8:26       2.55       17850  United Kingdom        15.30  \n",
       "1  12/1/2010 8:26       3.39       17850  United Kingdom        20.34  \n",
       "2  12/1/2010 8:26       2.75       17850  United Kingdom        22.00  \n",
       "3  12/1/2010 8:26       3.39       17850  United Kingdom        20.34  \n",
       "4  12/1/2010 8:26       3.39       17850  United Kingdom        20.34  "
      ]
     },
     "execution_count": 31,
     "metadata": {},
     "output_type": "execute_result"
    }
   ],
   "source": [
    "df.head()"
   ]
  },
  {
   "cell_type": "code",
   "execution_count": 32,
   "id": "6f80a7e8-51a8-4727-bf7d-920f9951bed8",
   "metadata": {},
   "outputs": [
    {
     "data": {
      "text/plain": [
       "CustomerID\n",
       "12346     1\n",
       "12347     7\n",
       "12348     4\n",
       "12349     1\n",
       "12350     1\n",
       "         ..\n",
       "18280     1\n",
       "18281     1\n",
       "18282     2\n",
       "18283    16\n",
       "18287     3\n",
       "Name: InvoiceNo, Length: 4339, dtype: int64"
      ]
     },
     "execution_count": 32,
     "metadata": {},
     "output_type": "execute_result"
    }
   ],
   "source": [
    "customer_orders = df.groupby('CustomerID')['InvoiceNo'].nunique()\n",
    "customer_orders"
   ]
  },
  {
   "cell_type": "code",
   "execution_count": 33,
   "id": "a841df0b-2a29-4f3e-85b5-e4c653c4891d",
   "metadata": {},
   "outputs": [],
   "source": [
    "repeat_customers = (customer_orders > 1).sum()"
   ]
  },
  {
   "cell_type": "code",
   "execution_count": 34,
   "id": "5c5ff3db-0a73-4933-9a1b-e7a0a989c43f",
   "metadata": {},
   "outputs": [
    {
     "data": {
      "text/plain": [
       "np.int64(2845)"
      ]
     },
     "execution_count": 34,
     "metadata": {},
     "output_type": "execute_result"
    }
   ],
   "source": [
    "repeat_customers"
   ]
  },
  {
   "cell_type": "code",
   "execution_count": 35,
   "id": "0965e144-b428-4923-84f6-71d47bd8fb70",
   "metadata": {},
   "outputs": [
    {
     "data": {
      "text/plain": [
       "np.int64(4339)"
      ]
     },
     "execution_count": 35,
     "metadata": {},
     "output_type": "execute_result"
    }
   ],
   "source": [
    "total_customers = customer_orders.count()\n",
    "total_customers"
   ]
  },
  {
   "cell_type": "code",
   "execution_count": 36,
   "id": "3388848c-462c-4a81-a6e6-ce3cb30ebbbe",
   "metadata": {},
   "outputs": [
    {
     "data": {
      "text/plain": [
       "np.float64(65.56810324959667)"
      ]
     },
     "execution_count": 36,
     "metadata": {},
     "output_type": "execute_result"
    }
   ],
   "source": [
    "share_of_repeat_customers = repeat_customers / total_customers * 100\n",
    "share_of_repeat_customers"
   ]
  },
  {
   "cell_type": "markdown",
   "id": "1a3ed81f-1dc2-4d66-8f2a-77d3f59a4811",
   "metadata": {},
   "source": [
    "Доля повторных клиентов магазина - 65,57 %"
   ]
  },
  {
   "cell_type": "markdown",
   "id": "0fbb619f-4c5e-4170-b05a-9abe3582df28",
   "metadata": {},
   "source": [
    "## Когортный анализ"
   ]
  },
  {
   "cell_type": "markdown",
   "id": "a12a0dec-c958-410d-8d33-0c98ccb2efc8",
   "metadata": {},
   "source": [
    "Цель: Когортный анализ поможет понять, как клиенты возвращаются для повторных покупок с течением времени. \n",
    "Я сгруппирую клиентов по дате их первой покупки (когорта) и посмотрю, \n",
    "как их поведение (например, количество заказов или выручка) меняется в последующие месяцы."
   ]
  },
  {
   "cell_type": "markdown",
   "id": "f7b24e50-64b2-4727-87da-016644fa01e3",
   "metadata": {},
   "source": [
    "1. Определим когорты:\n",
    "- Когорта — это группа клиентов, сделавших первую покупку в одном и том же месяце.\n",
    "2. Посчитаем метрики:\n",
    "- Доля клиентов, которые возвращаются в последующие месяцы (Retention Rate по месяцам).\n",
    "- (Бонус) Средний чек или выручка по когортам.\n",
    "3. Визуализируем:\n",
    "- Построим тепловую карту (heatmap) для Retention Rate."
   ]
  },
  {
   "cell_type": "code",
   "execution_count": 37,
   "id": "9de1113f-29bd-438f-bcc1-5325e042f57e",
   "metadata": {},
   "outputs": [
    {
     "data": {
      "text/html": [
       "<div>\n",
       "<style scoped>\n",
       "    .dataframe tbody tr th:only-of-type {\n",
       "        vertical-align: middle;\n",
       "    }\n",
       "\n",
       "    .dataframe tbody tr th {\n",
       "        vertical-align: top;\n",
       "    }\n",
       "\n",
       "    .dataframe thead th {\n",
       "        text-align: right;\n",
       "    }\n",
       "</style>\n",
       "<table border=\"1\" class=\"dataframe\">\n",
       "  <thead>\n",
       "    <tr style=\"text-align: right;\">\n",
       "      <th></th>\n",
       "      <th>InvoiceNo</th>\n",
       "      <th>StockCode</th>\n",
       "      <th>Description</th>\n",
       "      <th>Quantity</th>\n",
       "      <th>InvoiceDate</th>\n",
       "      <th>UnitPrice</th>\n",
       "      <th>CustomerID</th>\n",
       "      <th>Country</th>\n",
       "      <th>Total_Price</th>\n",
       "    </tr>\n",
       "  </thead>\n",
       "  <tbody>\n",
       "    <tr>\n",
       "      <th>0</th>\n",
       "      <td>536365</td>\n",
       "      <td>85123A</td>\n",
       "      <td>WHITE HANGING HEART T-LIGHT HOLDER</td>\n",
       "      <td>6</td>\n",
       "      <td>12/1/2010 8:26</td>\n",
       "      <td>2.55</td>\n",
       "      <td>17850</td>\n",
       "      <td>United Kingdom</td>\n",
       "      <td>15.30</td>\n",
       "    </tr>\n",
       "    <tr>\n",
       "      <th>1</th>\n",
       "      <td>536365</td>\n",
       "      <td>71053</td>\n",
       "      <td>WHITE METAL LANTERN</td>\n",
       "      <td>6</td>\n",
       "      <td>12/1/2010 8:26</td>\n",
       "      <td>3.39</td>\n",
       "      <td>17850</td>\n",
       "      <td>United Kingdom</td>\n",
       "      <td>20.34</td>\n",
       "    </tr>\n",
       "    <tr>\n",
       "      <th>2</th>\n",
       "      <td>536365</td>\n",
       "      <td>84406B</td>\n",
       "      <td>CREAM CUPID HEARTS COAT HANGER</td>\n",
       "      <td>8</td>\n",
       "      <td>12/1/2010 8:26</td>\n",
       "      <td>2.75</td>\n",
       "      <td>17850</td>\n",
       "      <td>United Kingdom</td>\n",
       "      <td>22.00</td>\n",
       "    </tr>\n",
       "    <tr>\n",
       "      <th>3</th>\n",
       "      <td>536365</td>\n",
       "      <td>84029G</td>\n",
       "      <td>KNITTED UNION FLAG HOT WATER BOTTLE</td>\n",
       "      <td>6</td>\n",
       "      <td>12/1/2010 8:26</td>\n",
       "      <td>3.39</td>\n",
       "      <td>17850</td>\n",
       "      <td>United Kingdom</td>\n",
       "      <td>20.34</td>\n",
       "    </tr>\n",
       "    <tr>\n",
       "      <th>4</th>\n",
       "      <td>536365</td>\n",
       "      <td>84029E</td>\n",
       "      <td>RED WOOLLY HOTTIE WHITE HEART.</td>\n",
       "      <td>6</td>\n",
       "      <td>12/1/2010 8:26</td>\n",
       "      <td>3.39</td>\n",
       "      <td>17850</td>\n",
       "      <td>United Kingdom</td>\n",
       "      <td>20.34</td>\n",
       "    </tr>\n",
       "  </tbody>\n",
       "</table>\n",
       "</div>"
      ],
      "text/plain": [
       "  InvoiceNo StockCode                          Description  Quantity  \\\n",
       "0    536365    85123A   WHITE HANGING HEART T-LIGHT HOLDER         6   \n",
       "1    536365     71053                  WHITE METAL LANTERN         6   \n",
       "2    536365    84406B       CREAM CUPID HEARTS COAT HANGER         8   \n",
       "3    536365    84029G  KNITTED UNION FLAG HOT WATER BOTTLE         6   \n",
       "4    536365    84029E       RED WOOLLY HOTTIE WHITE HEART.         6   \n",
       "\n",
       "      InvoiceDate  UnitPrice  CustomerID         Country  Total_Price  \n",
       "0  12/1/2010 8:26       2.55       17850  United Kingdom        15.30  \n",
       "1  12/1/2010 8:26       3.39       17850  United Kingdom        20.34  \n",
       "2  12/1/2010 8:26       2.75       17850  United Kingdom        22.00  \n",
       "3  12/1/2010 8:26       3.39       17850  United Kingdom        20.34  \n",
       "4  12/1/2010 8:26       3.39       17850  United Kingdom        20.34  "
      ]
     },
     "execution_count": 37,
     "metadata": {},
     "output_type": "execute_result"
    }
   ],
   "source": [
    "df.head()"
   ]
  },
  {
   "cell_type": "code",
   "execution_count": 38,
   "id": "40041cff-b4bb-4e44-aa2e-c460934bff76",
   "metadata": {},
   "outputs": [
    {
     "data": {
      "text/html": [
       "<div>\n",
       "<style scoped>\n",
       "    .dataframe tbody tr th:only-of-type {\n",
       "        vertical-align: middle;\n",
       "    }\n",
       "\n",
       "    .dataframe tbody tr th {\n",
       "        vertical-align: top;\n",
       "    }\n",
       "\n",
       "    .dataframe thead th {\n",
       "        text-align: right;\n",
       "    }\n",
       "</style>\n",
       "<table border=\"1\" class=\"dataframe\">\n",
       "  <thead>\n",
       "    <tr style=\"text-align: right;\">\n",
       "      <th></th>\n",
       "      <th>InvoiceNo</th>\n",
       "      <th>StockCode</th>\n",
       "      <th>Description</th>\n",
       "      <th>Quantity</th>\n",
       "      <th>InvoiceDate</th>\n",
       "      <th>UnitPrice</th>\n",
       "      <th>CustomerID</th>\n",
       "      <th>Country</th>\n",
       "      <th>Total_Price</th>\n",
       "      <th>InvoiceMonth</th>\n",
       "      <th>CohortMonth</th>\n",
       "    </tr>\n",
       "  </thead>\n",
       "  <tbody>\n",
       "    <tr>\n",
       "      <th>0</th>\n",
       "      <td>536365</td>\n",
       "      <td>85123A</td>\n",
       "      <td>WHITE HANGING HEART T-LIGHT HOLDER</td>\n",
       "      <td>6</td>\n",
       "      <td>2010-12-01 08:26:00</td>\n",
       "      <td>2.55</td>\n",
       "      <td>17850</td>\n",
       "      <td>United Kingdom</td>\n",
       "      <td>15.30</td>\n",
       "      <td>2010-12</td>\n",
       "      <td>2010-12</td>\n",
       "    </tr>\n",
       "    <tr>\n",
       "      <th>1</th>\n",
       "      <td>536365</td>\n",
       "      <td>71053</td>\n",
       "      <td>WHITE METAL LANTERN</td>\n",
       "      <td>6</td>\n",
       "      <td>2010-12-01 08:26:00</td>\n",
       "      <td>3.39</td>\n",
       "      <td>17850</td>\n",
       "      <td>United Kingdom</td>\n",
       "      <td>20.34</td>\n",
       "      <td>2010-12</td>\n",
       "      <td>2010-12</td>\n",
       "    </tr>\n",
       "    <tr>\n",
       "      <th>2</th>\n",
       "      <td>536365</td>\n",
       "      <td>84406B</td>\n",
       "      <td>CREAM CUPID HEARTS COAT HANGER</td>\n",
       "      <td>8</td>\n",
       "      <td>2010-12-01 08:26:00</td>\n",
       "      <td>2.75</td>\n",
       "      <td>17850</td>\n",
       "      <td>United Kingdom</td>\n",
       "      <td>22.00</td>\n",
       "      <td>2010-12</td>\n",
       "      <td>2010-12</td>\n",
       "    </tr>\n",
       "    <tr>\n",
       "      <th>3</th>\n",
       "      <td>536365</td>\n",
       "      <td>84029G</td>\n",
       "      <td>KNITTED UNION FLAG HOT WATER BOTTLE</td>\n",
       "      <td>6</td>\n",
       "      <td>2010-12-01 08:26:00</td>\n",
       "      <td>3.39</td>\n",
       "      <td>17850</td>\n",
       "      <td>United Kingdom</td>\n",
       "      <td>20.34</td>\n",
       "      <td>2010-12</td>\n",
       "      <td>2010-12</td>\n",
       "    </tr>\n",
       "    <tr>\n",
       "      <th>4</th>\n",
       "      <td>536365</td>\n",
       "      <td>84029E</td>\n",
       "      <td>RED WOOLLY HOTTIE WHITE HEART.</td>\n",
       "      <td>6</td>\n",
       "      <td>2010-12-01 08:26:00</td>\n",
       "      <td>3.39</td>\n",
       "      <td>17850</td>\n",
       "      <td>United Kingdom</td>\n",
       "      <td>20.34</td>\n",
       "      <td>2010-12</td>\n",
       "      <td>2010-12</td>\n",
       "    </tr>\n",
       "  </tbody>\n",
       "</table>\n",
       "</div>"
      ],
      "text/plain": [
       "  InvoiceNo StockCode                          Description  Quantity  \\\n",
       "0    536365    85123A   WHITE HANGING HEART T-LIGHT HOLDER         6   \n",
       "1    536365     71053                  WHITE METAL LANTERN         6   \n",
       "2    536365    84406B       CREAM CUPID HEARTS COAT HANGER         8   \n",
       "3    536365    84029G  KNITTED UNION FLAG HOT WATER BOTTLE         6   \n",
       "4    536365    84029E       RED WOOLLY HOTTIE WHITE HEART.         6   \n",
       "\n",
       "          InvoiceDate  UnitPrice  CustomerID         Country  Total_Price  \\\n",
       "0 2010-12-01 08:26:00       2.55       17850  United Kingdom        15.30   \n",
       "1 2010-12-01 08:26:00       3.39       17850  United Kingdom        20.34   \n",
       "2 2010-12-01 08:26:00       2.75       17850  United Kingdom        22.00   \n",
       "3 2010-12-01 08:26:00       3.39       17850  United Kingdom        20.34   \n",
       "4 2010-12-01 08:26:00       3.39       17850  United Kingdom        20.34   \n",
       "\n",
       "  InvoiceMonth CohortMonth  \n",
       "0      2010-12     2010-12  \n",
       "1      2010-12     2010-12  \n",
       "2      2010-12     2010-12  \n",
       "3      2010-12     2010-12  \n",
       "4      2010-12     2010-12  "
      ]
     },
     "execution_count": 38,
     "metadata": {},
     "output_type": "execute_result"
    }
   ],
   "source": [
    "df['InvoiceDate'] = pd.to_datetime(df['InvoiceDate'])\n",
    "df['InvoiceMonth'] = df['InvoiceDate'].dt.to_period('M')\n",
    "#определим месяц первой покупки для каждого клиента\n",
    "df['CohortMonth'] = df.groupby('CustomerID')['InvoiceDate'].transform('min').dt.to_period('M')\n",
    "df.head()"
   ]
  },
  {
   "cell_type": "code",
   "execution_count": 39,
   "id": "ee62182f-cf89-44d0-b96f-b41bc1683317",
   "metadata": {},
   "outputs": [],
   "source": [
    "df['CohortIndex'] = (df['InvoiceMonth'] - df['CohortMonth']).apply(lambda x: x.n)"
   ]
  },
  {
   "cell_type": "markdown",
   "id": "316d2a52-9cf5-4fb8-b194-32f5a736df4e",
   "metadata": {},
   "source": [
    "Получается, эти разности дат порождают объекты, которые состоят из разности в месяцах (так как мы вытягиваем из дат период месяц) между этими датами, а с помощью метода .n мы берем само число разности между этими датами"
   ]
  },
  {
   "cell_type": "code",
   "execution_count": 40,
   "id": "389943d6-7282-48d3-9280-cdcb7064b608",
   "metadata": {},
   "outputs": [
    {
     "data": {
      "text/html": [
       "<div>\n",
       "<style scoped>\n",
       "    .dataframe tbody tr th:only-of-type {\n",
       "        vertical-align: middle;\n",
       "    }\n",
       "\n",
       "    .dataframe tbody tr th {\n",
       "        vertical-align: top;\n",
       "    }\n",
       "\n",
       "    .dataframe thead th {\n",
       "        text-align: right;\n",
       "    }\n",
       "</style>\n",
       "<table border=\"1\" class=\"dataframe\">\n",
       "  <thead>\n",
       "    <tr style=\"text-align: right;\">\n",
       "      <th></th>\n",
       "      <th>InvoiceNo</th>\n",
       "      <th>StockCode</th>\n",
       "      <th>Description</th>\n",
       "      <th>Quantity</th>\n",
       "      <th>InvoiceDate</th>\n",
       "      <th>UnitPrice</th>\n",
       "      <th>CustomerID</th>\n",
       "      <th>Country</th>\n",
       "      <th>Total_Price</th>\n",
       "      <th>InvoiceMonth</th>\n",
       "      <th>CohortMonth</th>\n",
       "      <th>CohortIndex</th>\n",
       "    </tr>\n",
       "  </thead>\n",
       "  <tbody>\n",
       "    <tr>\n",
       "      <th>0</th>\n",
       "      <td>536365</td>\n",
       "      <td>85123A</td>\n",
       "      <td>WHITE HANGING HEART T-LIGHT HOLDER</td>\n",
       "      <td>6</td>\n",
       "      <td>2010-12-01 08:26:00</td>\n",
       "      <td>2.55</td>\n",
       "      <td>17850</td>\n",
       "      <td>United Kingdom</td>\n",
       "      <td>15.30</td>\n",
       "      <td>2010-12</td>\n",
       "      <td>2010-12</td>\n",
       "      <td>0</td>\n",
       "    </tr>\n",
       "    <tr>\n",
       "      <th>1</th>\n",
       "      <td>536365</td>\n",
       "      <td>71053</td>\n",
       "      <td>WHITE METAL LANTERN</td>\n",
       "      <td>6</td>\n",
       "      <td>2010-12-01 08:26:00</td>\n",
       "      <td>3.39</td>\n",
       "      <td>17850</td>\n",
       "      <td>United Kingdom</td>\n",
       "      <td>20.34</td>\n",
       "      <td>2010-12</td>\n",
       "      <td>2010-12</td>\n",
       "      <td>0</td>\n",
       "    </tr>\n",
       "    <tr>\n",
       "      <th>2</th>\n",
       "      <td>536365</td>\n",
       "      <td>84406B</td>\n",
       "      <td>CREAM CUPID HEARTS COAT HANGER</td>\n",
       "      <td>8</td>\n",
       "      <td>2010-12-01 08:26:00</td>\n",
       "      <td>2.75</td>\n",
       "      <td>17850</td>\n",
       "      <td>United Kingdom</td>\n",
       "      <td>22.00</td>\n",
       "      <td>2010-12</td>\n",
       "      <td>2010-12</td>\n",
       "      <td>0</td>\n",
       "    </tr>\n",
       "    <tr>\n",
       "      <th>3</th>\n",
       "      <td>536365</td>\n",
       "      <td>84029G</td>\n",
       "      <td>KNITTED UNION FLAG HOT WATER BOTTLE</td>\n",
       "      <td>6</td>\n",
       "      <td>2010-12-01 08:26:00</td>\n",
       "      <td>3.39</td>\n",
       "      <td>17850</td>\n",
       "      <td>United Kingdom</td>\n",
       "      <td>20.34</td>\n",
       "      <td>2010-12</td>\n",
       "      <td>2010-12</td>\n",
       "      <td>0</td>\n",
       "    </tr>\n",
       "    <tr>\n",
       "      <th>4</th>\n",
       "      <td>536365</td>\n",
       "      <td>84029E</td>\n",
       "      <td>RED WOOLLY HOTTIE WHITE HEART.</td>\n",
       "      <td>6</td>\n",
       "      <td>2010-12-01 08:26:00</td>\n",
       "      <td>3.39</td>\n",
       "      <td>17850</td>\n",
       "      <td>United Kingdom</td>\n",
       "      <td>20.34</td>\n",
       "      <td>2010-12</td>\n",
       "      <td>2010-12</td>\n",
       "      <td>0</td>\n",
       "    </tr>\n",
       "  </tbody>\n",
       "</table>\n",
       "</div>"
      ],
      "text/plain": [
       "  InvoiceNo StockCode                          Description  Quantity  \\\n",
       "0    536365    85123A   WHITE HANGING HEART T-LIGHT HOLDER         6   \n",
       "1    536365     71053                  WHITE METAL LANTERN         6   \n",
       "2    536365    84406B       CREAM CUPID HEARTS COAT HANGER         8   \n",
       "3    536365    84029G  KNITTED UNION FLAG HOT WATER BOTTLE         6   \n",
       "4    536365    84029E       RED WOOLLY HOTTIE WHITE HEART.         6   \n",
       "\n",
       "          InvoiceDate  UnitPrice  CustomerID         Country  Total_Price  \\\n",
       "0 2010-12-01 08:26:00       2.55       17850  United Kingdom        15.30   \n",
       "1 2010-12-01 08:26:00       3.39       17850  United Kingdom        20.34   \n",
       "2 2010-12-01 08:26:00       2.75       17850  United Kingdom        22.00   \n",
       "3 2010-12-01 08:26:00       3.39       17850  United Kingdom        20.34   \n",
       "4 2010-12-01 08:26:00       3.39       17850  United Kingdom        20.34   \n",
       "\n",
       "  InvoiceMonth CohortMonth  CohortIndex  \n",
       "0      2010-12     2010-12            0  \n",
       "1      2010-12     2010-12            0  \n",
       "2      2010-12     2010-12            0  \n",
       "3      2010-12     2010-12            0  \n",
       "4      2010-12     2010-12            0  "
      ]
     },
     "execution_count": 40,
     "metadata": {},
     "output_type": "execute_result"
    }
   ],
   "source": [
    "df.head()"
   ]
  },
  {
   "cell_type": "code",
   "execution_count": 41,
   "id": "438b6f12-f7a1-4811-98d1-7e6782dde138",
   "metadata": {},
   "outputs": [
    {
     "data": {
      "text/html": [
       "<div>\n",
       "<style scoped>\n",
       "    .dataframe tbody tr th:only-of-type {\n",
       "        vertical-align: middle;\n",
       "    }\n",
       "\n",
       "    .dataframe tbody tr th {\n",
       "        vertical-align: top;\n",
       "    }\n",
       "\n",
       "    .dataframe thead th {\n",
       "        text-align: right;\n",
       "    }\n",
       "</style>\n",
       "<table border=\"1\" class=\"dataframe\">\n",
       "  <thead>\n",
       "    <tr style=\"text-align: right;\">\n",
       "      <th>CohortIndex</th>\n",
       "      <th>0</th>\n",
       "      <th>1</th>\n",
       "      <th>2</th>\n",
       "      <th>3</th>\n",
       "      <th>4</th>\n",
       "      <th>5</th>\n",
       "      <th>6</th>\n",
       "      <th>7</th>\n",
       "      <th>8</th>\n",
       "      <th>9</th>\n",
       "      <th>10</th>\n",
       "      <th>11</th>\n",
       "      <th>12</th>\n",
       "    </tr>\n",
       "    <tr>\n",
       "      <th>CohortMonth</th>\n",
       "      <th></th>\n",
       "      <th></th>\n",
       "      <th></th>\n",
       "      <th></th>\n",
       "      <th></th>\n",
       "      <th></th>\n",
       "      <th></th>\n",
       "      <th></th>\n",
       "      <th></th>\n",
       "      <th></th>\n",
       "      <th></th>\n",
       "      <th></th>\n",
       "      <th></th>\n",
       "    </tr>\n",
       "  </thead>\n",
       "  <tbody>\n",
       "    <tr>\n",
       "      <th>2010-12</th>\n",
       "      <td>100.0</td>\n",
       "      <td>36.6</td>\n",
       "      <td>32.3</td>\n",
       "      <td>38.4</td>\n",
       "      <td>36.3</td>\n",
       "      <td>39.8</td>\n",
       "      <td>36.3</td>\n",
       "      <td>34.9</td>\n",
       "      <td>35.4</td>\n",
       "      <td>39.5</td>\n",
       "      <td>37.4</td>\n",
       "      <td>50.3</td>\n",
       "      <td>26.6</td>\n",
       "    </tr>\n",
       "    <tr>\n",
       "      <th>2011-01</th>\n",
       "      <td>100.0</td>\n",
       "      <td>22.1</td>\n",
       "      <td>26.6</td>\n",
       "      <td>23.0</td>\n",
       "      <td>32.1</td>\n",
       "      <td>28.8</td>\n",
       "      <td>24.7</td>\n",
       "      <td>24.2</td>\n",
       "      <td>30.0</td>\n",
       "      <td>32.6</td>\n",
       "      <td>36.5</td>\n",
       "      <td>11.8</td>\n",
       "      <td>NaN</td>\n",
       "    </tr>\n",
       "    <tr>\n",
       "      <th>2011-02</th>\n",
       "      <td>100.0</td>\n",
       "      <td>18.7</td>\n",
       "      <td>18.7</td>\n",
       "      <td>28.4</td>\n",
       "      <td>27.1</td>\n",
       "      <td>24.7</td>\n",
       "      <td>25.3</td>\n",
       "      <td>27.9</td>\n",
       "      <td>24.7</td>\n",
       "      <td>30.5</td>\n",
       "      <td>6.8</td>\n",
       "      <td>NaN</td>\n",
       "      <td>NaN</td>\n",
       "    </tr>\n",
       "    <tr>\n",
       "      <th>2011-03</th>\n",
       "      <td>100.0</td>\n",
       "      <td>15.0</td>\n",
       "      <td>25.2</td>\n",
       "      <td>19.9</td>\n",
       "      <td>22.3</td>\n",
       "      <td>16.8</td>\n",
       "      <td>26.8</td>\n",
       "      <td>23.0</td>\n",
       "      <td>27.9</td>\n",
       "      <td>8.6</td>\n",
       "      <td>NaN</td>\n",
       "      <td>NaN</td>\n",
       "      <td>NaN</td>\n",
       "    </tr>\n",
       "    <tr>\n",
       "      <th>2011-04</th>\n",
       "      <td>100.0</td>\n",
       "      <td>21.3</td>\n",
       "      <td>20.3</td>\n",
       "      <td>21.0</td>\n",
       "      <td>19.7</td>\n",
       "      <td>22.7</td>\n",
       "      <td>21.7</td>\n",
       "      <td>26.0</td>\n",
       "      <td>7.3</td>\n",
       "      <td>NaN</td>\n",
       "      <td>NaN</td>\n",
       "      <td>NaN</td>\n",
       "      <td>NaN</td>\n",
       "    </tr>\n",
       "    <tr>\n",
       "      <th>2011-05</th>\n",
       "      <td>100.0</td>\n",
       "      <td>19.0</td>\n",
       "      <td>17.3</td>\n",
       "      <td>17.3</td>\n",
       "      <td>20.8</td>\n",
       "      <td>23.2</td>\n",
       "      <td>26.4</td>\n",
       "      <td>9.5</td>\n",
       "      <td>NaN</td>\n",
       "      <td>NaN</td>\n",
       "      <td>NaN</td>\n",
       "      <td>NaN</td>\n",
       "      <td>NaN</td>\n",
       "    </tr>\n",
       "    <tr>\n",
       "      <th>2011-06</th>\n",
       "      <td>100.0</td>\n",
       "      <td>17.4</td>\n",
       "      <td>15.7</td>\n",
       "      <td>26.4</td>\n",
       "      <td>23.1</td>\n",
       "      <td>33.5</td>\n",
       "      <td>9.5</td>\n",
       "      <td>NaN</td>\n",
       "      <td>NaN</td>\n",
       "      <td>NaN</td>\n",
       "      <td>NaN</td>\n",
       "      <td>NaN</td>\n",
       "      <td>NaN</td>\n",
       "    </tr>\n",
       "    <tr>\n",
       "      <th>2011-07</th>\n",
       "      <td>100.0</td>\n",
       "      <td>18.1</td>\n",
       "      <td>20.7</td>\n",
       "      <td>22.3</td>\n",
       "      <td>27.1</td>\n",
       "      <td>11.2</td>\n",
       "      <td>NaN</td>\n",
       "      <td>NaN</td>\n",
       "      <td>NaN</td>\n",
       "      <td>NaN</td>\n",
       "      <td>NaN</td>\n",
       "      <td>NaN</td>\n",
       "      <td>NaN</td>\n",
       "    </tr>\n",
       "    <tr>\n",
       "      <th>2011-08</th>\n",
       "      <td>100.0</td>\n",
       "      <td>20.7</td>\n",
       "      <td>24.9</td>\n",
       "      <td>24.3</td>\n",
       "      <td>12.4</td>\n",
       "      <td>NaN</td>\n",
       "      <td>NaN</td>\n",
       "      <td>NaN</td>\n",
       "      <td>NaN</td>\n",
       "      <td>NaN</td>\n",
       "      <td>NaN</td>\n",
       "      <td>NaN</td>\n",
       "      <td>NaN</td>\n",
       "    </tr>\n",
       "    <tr>\n",
       "      <th>2011-09</th>\n",
       "      <td>100.0</td>\n",
       "      <td>23.4</td>\n",
       "      <td>30.1</td>\n",
       "      <td>11.4</td>\n",
       "      <td>NaN</td>\n",
       "      <td>NaN</td>\n",
       "      <td>NaN</td>\n",
       "      <td>NaN</td>\n",
       "      <td>NaN</td>\n",
       "      <td>NaN</td>\n",
       "      <td>NaN</td>\n",
       "      <td>NaN</td>\n",
       "      <td>NaN</td>\n",
       "    </tr>\n",
       "    <tr>\n",
       "      <th>2011-10</th>\n",
       "      <td>100.0</td>\n",
       "      <td>24.0</td>\n",
       "      <td>11.5</td>\n",
       "      <td>NaN</td>\n",
       "      <td>NaN</td>\n",
       "      <td>NaN</td>\n",
       "      <td>NaN</td>\n",
       "      <td>NaN</td>\n",
       "      <td>NaN</td>\n",
       "      <td>NaN</td>\n",
       "      <td>NaN</td>\n",
       "      <td>NaN</td>\n",
       "      <td>NaN</td>\n",
       "    </tr>\n",
       "    <tr>\n",
       "      <th>2011-11</th>\n",
       "      <td>100.0</td>\n",
       "      <td>11.1</td>\n",
       "      <td>NaN</td>\n",
       "      <td>NaN</td>\n",
       "      <td>NaN</td>\n",
       "      <td>NaN</td>\n",
       "      <td>NaN</td>\n",
       "      <td>NaN</td>\n",
       "      <td>NaN</td>\n",
       "      <td>NaN</td>\n",
       "      <td>NaN</td>\n",
       "      <td>NaN</td>\n",
       "      <td>NaN</td>\n",
       "    </tr>\n",
       "    <tr>\n",
       "      <th>2011-12</th>\n",
       "      <td>100.0</td>\n",
       "      <td>NaN</td>\n",
       "      <td>NaN</td>\n",
       "      <td>NaN</td>\n",
       "      <td>NaN</td>\n",
       "      <td>NaN</td>\n",
       "      <td>NaN</td>\n",
       "      <td>NaN</td>\n",
       "      <td>NaN</td>\n",
       "      <td>NaN</td>\n",
       "      <td>NaN</td>\n",
       "      <td>NaN</td>\n",
       "      <td>NaN</td>\n",
       "    </tr>\n",
       "  </tbody>\n",
       "</table>\n",
       "</div>"
      ],
      "text/plain": [
       "CohortIndex     0     1     2     3     4     5     6     7     8     9   \\\n",
       "CohortMonth                                                                \n",
       "2010-12      100.0  36.6  32.3  38.4  36.3  39.8  36.3  34.9  35.4  39.5   \n",
       "2011-01      100.0  22.1  26.6  23.0  32.1  28.8  24.7  24.2  30.0  32.6   \n",
       "2011-02      100.0  18.7  18.7  28.4  27.1  24.7  25.3  27.9  24.7  30.5   \n",
       "2011-03      100.0  15.0  25.2  19.9  22.3  16.8  26.8  23.0  27.9   8.6   \n",
       "2011-04      100.0  21.3  20.3  21.0  19.7  22.7  21.7  26.0   7.3   NaN   \n",
       "2011-05      100.0  19.0  17.3  17.3  20.8  23.2  26.4   9.5   NaN   NaN   \n",
       "2011-06      100.0  17.4  15.7  26.4  23.1  33.5   9.5   NaN   NaN   NaN   \n",
       "2011-07      100.0  18.1  20.7  22.3  27.1  11.2   NaN   NaN   NaN   NaN   \n",
       "2011-08      100.0  20.7  24.9  24.3  12.4   NaN   NaN   NaN   NaN   NaN   \n",
       "2011-09      100.0  23.4  30.1  11.4   NaN   NaN   NaN   NaN   NaN   NaN   \n",
       "2011-10      100.0  24.0  11.5   NaN   NaN   NaN   NaN   NaN   NaN   NaN   \n",
       "2011-11      100.0  11.1   NaN   NaN   NaN   NaN   NaN   NaN   NaN   NaN   \n",
       "2011-12      100.0   NaN   NaN   NaN   NaN   NaN   NaN   NaN   NaN   NaN   \n",
       "\n",
       "CohortIndex    10    11    12  \n",
       "CohortMonth                    \n",
       "2010-12      37.4  50.3  26.6  \n",
       "2011-01      36.5  11.8   NaN  \n",
       "2011-02       6.8   NaN   NaN  \n",
       "2011-03       NaN   NaN   NaN  \n",
       "2011-04       NaN   NaN   NaN  \n",
       "2011-05       NaN   NaN   NaN  \n",
       "2011-06       NaN   NaN   NaN  \n",
       "2011-07       NaN   NaN   NaN  \n",
       "2011-08       NaN   NaN   NaN  \n",
       "2011-09       NaN   NaN   NaN  \n",
       "2011-10       NaN   NaN   NaN  \n",
       "2011-11       NaN   NaN   NaN  \n",
       "2011-12       NaN   NaN   NaN  "
      ]
     },
     "execution_count": 41,
     "metadata": {},
     "output_type": "execute_result"
    }
   ],
   "source": [
    "cohort_data = df.groupby(['CohortMonth', 'CohortIndex'])['CustomerID'].nunique().reset_index()\n",
    "\n",
    "cohort_counts = cohort_data.pivot(index='CohortMonth', columns='CohortIndex', values='CustomerID')\n",
    "cohort_sizes = cohort_counts[0]\n",
    "\n",
    "retention = cohort_counts.divide(cohort_sizes, axis=0)\n",
    "retention = retention.round(3) * 100\n",
    "retention"
   ]
  },
  {
   "cell_type": "code",
   "execution_count": 42,
   "id": "e4cf6a1f-23b3-4241-aabc-aaa06cc0a338",
   "metadata": {},
   "outputs": [
    {
     "data": {
      "image/png": "[encoded data removed]",
      "text/plain": [
       "<Figure size 1200x800 with 2 Axes>"
      ]
     },
     "metadata": {},
     "output_type": "display_data"
    }
   ],
   "source": [
    "\n",
    "plt.figure(figsize=(12, 8))\n",
    "sns.heatmap(retention, annot=True, fmt='.1f', cmap='Blues', cbar_kws={'label': 'Retention Rate (%)'})\n",
    "plt.title('Когортный анализ: Retention Rate по месяцам (%)')\n",
    "plt.xlabel('Месяц после первой покупки (CohortIndex)')\n",
    "plt.ylabel('Месяц первой покупки (CohortMonth)')\n",
    "plt.savefig('cohort_retention_heatmap.png')\n",
    "plt.show()"
   ]
  },
  {
   "cell_type": "markdown",
   "id": "45f3b9e0-ff40-4aa7-9e93-4a7c01b15706",
   "metadata": {},
   "source": [
    "### Выводы"
   ]
  },
  {
   "cell_type": "markdown",
   "id": "1213e1ca-d12c-4cf1-839f-7bbd1881b1f7",
   "metadata": {},
   "source": [
    "* Общая выручка магазина: 8911407\n",
    "* общая выручка без оптовых закупок: 5217243\n",
    "* Средний чек в магазине: 305.6\n",
    "* Доля клиентов, которые совершили повторный заказ: 65,57 %\n",
    "\n",
    "#### Топ-5 по количеству заказов:\n",
    "\n",
    "* United Kingdom с количеством заказов = 15555\n",
    "* Germany с количеством заказов = 398\n",
    "* France с количеством заказов = 344\n",
    "* EIRE с количеством заказов = 187\n",
    "* Belgium с количеством заказов = 92"
   ]
  },
  {
   "cell_type": "code",
   "execution_count": null,
   "id": "e383bed5-3f73-48b5-b0bb-d418250be8af",
   "metadata": {},
   "outputs": [],
   "source": []
  },
  {
   "cell_type": "markdown",
   "id": "78b305c4-3ee2-4c35-ae49-3e027d9989f5",
   "metadata": {},
   "source": [
    "## Анализ возвратов"
   ]
  },
  {
   "cell_type": "markdown",
   "id": "869ed3fe-a83b-4f25-a67a-8b6fa6195e95",
   "metadata": {},
   "source": [
    "Перейдем к анализу возвратов в магазине"
   ]
  },
  {
   "cell_type": "code",
   "execution_count": 43,
   "id": "ca1ed9ec-2b98-4f7b-8011-1099f483a5de",
   "metadata": {},
   "outputs": [
    {
     "data": {
      "text/html": [
       "<div>\n",
       "<style scoped>\n",
       "    .dataframe tbody tr th:only-of-type {\n",
       "        vertical-align: middle;\n",
       "    }\n",
       "\n",
       "    .dataframe tbody tr th {\n",
       "        vertical-align: top;\n",
       "    }\n",
       "\n",
       "    .dataframe thead th {\n",
       "        text-align: right;\n",
       "    }\n",
       "</style>\n",
       "<table border=\"1\" class=\"dataframe\">\n",
       "  <thead>\n",
       "    <tr style=\"text-align: right;\">\n",
       "      <th></th>\n",
       "      <th>InvoiceNo</th>\n",
       "      <th>StockCode</th>\n",
       "      <th>Description</th>\n",
       "      <th>Quantity</th>\n",
       "      <th>InvoiceDate</th>\n",
       "      <th>UnitPrice</th>\n",
       "      <th>CustomerID</th>\n",
       "      <th>Country</th>\n",
       "    </tr>\n",
       "  </thead>\n",
       "  <tbody>\n",
       "    <tr>\n",
       "      <th>141</th>\n",
       "      <td>C536379</td>\n",
       "      <td>D</td>\n",
       "      <td>Discount</td>\n",
       "      <td>-1</td>\n",
       "      <td>12/1/2010 9:41</td>\n",
       "      <td>27.50</td>\n",
       "      <td>14527.0</td>\n",
       "      <td>United Kingdom</td>\n",
       "    </tr>\n",
       "    <tr>\n",
       "      <th>154</th>\n",
       "      <td>C536383</td>\n",
       "      <td>35004C</td>\n",
       "      <td>SET OF 3 COLOURED  FLYING DUCKS</td>\n",
       "      <td>-1</td>\n",
       "      <td>12/1/2010 9:49</td>\n",
       "      <td>4.65</td>\n",
       "      <td>15311.0</td>\n",
       "      <td>United Kingdom</td>\n",
       "    </tr>\n",
       "    <tr>\n",
       "      <th>235</th>\n",
       "      <td>C536391</td>\n",
       "      <td>22556</td>\n",
       "      <td>PLASTERS IN TIN CIRCUS PARADE</td>\n",
       "      <td>-12</td>\n",
       "      <td>12/1/2010 10:24</td>\n",
       "      <td>1.65</td>\n",
       "      <td>17548.0</td>\n",
       "      <td>United Kingdom</td>\n",
       "    </tr>\n",
       "    <tr>\n",
       "      <th>236</th>\n",
       "      <td>C536391</td>\n",
       "      <td>21984</td>\n",
       "      <td>PACK OF 12 PINK PAISLEY TISSUES</td>\n",
       "      <td>-24</td>\n",
       "      <td>12/1/2010 10:24</td>\n",
       "      <td>0.29</td>\n",
       "      <td>17548.0</td>\n",
       "      <td>United Kingdom</td>\n",
       "    </tr>\n",
       "    <tr>\n",
       "      <th>237</th>\n",
       "      <td>C536391</td>\n",
       "      <td>21983</td>\n",
       "      <td>PACK OF 12 BLUE PAISLEY TISSUES</td>\n",
       "      <td>-24</td>\n",
       "      <td>12/1/2010 10:24</td>\n",
       "      <td>0.29</td>\n",
       "      <td>17548.0</td>\n",
       "      <td>United Kingdom</td>\n",
       "    </tr>\n",
       "  </tbody>\n",
       "</table>\n",
       "</div>"
      ],
      "text/plain": [
       "    InvoiceNo StockCode                       Description  Quantity  \\\n",
       "141   C536379         D                          Discount        -1   \n",
       "154   C536383    35004C   SET OF 3 COLOURED  FLYING DUCKS        -1   \n",
       "235   C536391     22556    PLASTERS IN TIN CIRCUS PARADE        -12   \n",
       "236   C536391     21984  PACK OF 12 PINK PAISLEY TISSUES        -24   \n",
       "237   C536391     21983  PACK OF 12 BLUE PAISLEY TISSUES        -24   \n",
       "\n",
       "         InvoiceDate  UnitPrice  CustomerID         Country  \n",
       "141   12/1/2010 9:41      27.50     14527.0  United Kingdom  \n",
       "154   12/1/2010 9:49       4.65     15311.0  United Kingdom  \n",
       "235  12/1/2010 10:24       1.65     17548.0  United Kingdom  \n",
       "236  12/1/2010 10:24       0.29     17548.0  United Kingdom  \n",
       "237  12/1/2010 10:24       0.29     17548.0  United Kingdom  "
      ]
     },
     "execution_count": 43,
     "metadata": {},
     "output_type": "execute_result"
    }
   ],
   "source": [
    "df_back.head()"
   ]
  },
  {
   "cell_type": "markdown",
   "id": "ed0e0e5b-c5e4-457b-9616-e3452233c9fe",
   "metadata": {},
   "source": [
    "Посмотрим объем возвратов и их долю от всех транзакций в магазине"
   ]
  },
  {
   "cell_type": "code",
   "execution_count": 45,
   "id": "d29b7611-7552-42ab-af91-42f119591bc7",
   "metadata": {},
   "outputs": [
    {
     "data": {
      "text/plain": [
       "2.188880340388714"
      ]
     },
     "execution_count": 45,
     "metadata": {},
     "output_type": "execute_result"
    }
   ],
   "source": [
    "backs = len(df_back)\n",
    "total_trans = len(df) + backs\n",
    "part = backs / total_trans * 100\n",
    "part"
   ]
  },
  {
   "cell_type": "markdown",
   "id": "27f731ca-1826-46c7-a923-dc778062a14c",
   "metadata": {},
   "source": [
    "Доля возвратов на весь магазин = 2.19%, что не очень существенно, теперь посмотрим, сколько магазин потерял денег от возвратов"
   ]
  },
  {
   "cell_type": "code",
   "execution_count": 53,
   "id": "91419ecf-75f9-41eb-841b-4e8b440d0785",
   "metadata": {},
   "outputs": [
    {
     "data": {
      "text/plain": [
       "InvoiceNo      77\n",
       "StockCode      77\n",
       "Description    77\n",
       "Quantity       77\n",
       "InvoiceDate    77\n",
       "UnitPrice      77\n",
       "CustomerID     77\n",
       "Country        77\n",
       "Total_Price     0\n",
       "dtype: int64"
      ]
     },
     "execution_count": 53,
     "metadata": {},
     "output_type": "execute_result"
    }
   ],
   "source": [
    "discounts = df_back[df_back['StockCode'] == 'D']\n",
    "discounts.count()"
   ]
  },
  {
   "cell_type": "code",
   "execution_count": 54,
   "id": "13942ece-f53c-4c8e-9459-9fe75cda536e",
   "metadata": {},
   "outputs": [],
   "source": [
    "# исключим скидки на товары\n",
    "df_back = df_back[df_back['StockCode'] != 'D']"
   ]
  },
  {
   "cell_type": "code",
   "execution_count": 56,
   "id": "93fd00a2-1c3a-4d2c-83ec-b755f8a97387",
   "metadata": {},
   "outputs": [
    {
     "data": {
      "text/html": [
       "<div>\n",
       "<style scoped>\n",
       "    .dataframe tbody tr th:only-of-type {\n",
       "        vertical-align: middle;\n",
       "    }\n",
       "\n",
       "    .dataframe tbody tr th {\n",
       "        vertical-align: top;\n",
       "    }\n",
       "\n",
       "    .dataframe thead th {\n",
       "        text-align: right;\n",
       "    }\n",
       "</style>\n",
       "<table border=\"1\" class=\"dataframe\">\n",
       "  <thead>\n",
       "    <tr style=\"text-align: right;\">\n",
       "      <th></th>\n",
       "      <th>InvoiceNo</th>\n",
       "      <th>StockCode</th>\n",
       "      <th>Description</th>\n",
       "      <th>Quantity</th>\n",
       "      <th>InvoiceDate</th>\n",
       "      <th>UnitPrice</th>\n",
       "      <th>CustomerID</th>\n",
       "      <th>Country</th>\n",
       "      <th>Total_Price</th>\n",
       "      <th>Total_price</th>\n",
       "    </tr>\n",
       "  </thead>\n",
       "  <tbody>\n",
       "    <tr>\n",
       "      <th>154</th>\n",
       "      <td>C536383</td>\n",
       "      <td>35004C</td>\n",
       "      <td>SET OF 3 COLOURED  FLYING DUCKS</td>\n",
       "      <td>-1</td>\n",
       "      <td>12/1/2010 9:49</td>\n",
       "      <td>4.65</td>\n",
       "      <td>15311.0</td>\n",
       "      <td>United Kingdom</td>\n",
       "      <td>-4.65</td>\n",
       "      <td>-4.65</td>\n",
       "    </tr>\n",
       "    <tr>\n",
       "      <th>235</th>\n",
       "      <td>C536391</td>\n",
       "      <td>22556</td>\n",
       "      <td>PLASTERS IN TIN CIRCUS PARADE</td>\n",
       "      <td>-12</td>\n",
       "      <td>12/1/2010 10:24</td>\n",
       "      <td>1.65</td>\n",
       "      <td>17548.0</td>\n",
       "      <td>United Kingdom</td>\n",
       "      <td>-19.80</td>\n",
       "      <td>-19.80</td>\n",
       "    </tr>\n",
       "    <tr>\n",
       "      <th>236</th>\n",
       "      <td>C536391</td>\n",
       "      <td>21984</td>\n",
       "      <td>PACK OF 12 PINK PAISLEY TISSUES</td>\n",
       "      <td>-24</td>\n",
       "      <td>12/1/2010 10:24</td>\n",
       "      <td>0.29</td>\n",
       "      <td>17548.0</td>\n",
       "      <td>United Kingdom</td>\n",
       "      <td>-6.96</td>\n",
       "      <td>-6.96</td>\n",
       "    </tr>\n",
       "    <tr>\n",
       "      <th>237</th>\n",
       "      <td>C536391</td>\n",
       "      <td>21983</td>\n",
       "      <td>PACK OF 12 BLUE PAISLEY TISSUES</td>\n",
       "      <td>-24</td>\n",
       "      <td>12/1/2010 10:24</td>\n",
       "      <td>0.29</td>\n",
       "      <td>17548.0</td>\n",
       "      <td>United Kingdom</td>\n",
       "      <td>-6.96</td>\n",
       "      <td>-6.96</td>\n",
       "    </tr>\n",
       "    <tr>\n",
       "      <th>238</th>\n",
       "      <td>C536391</td>\n",
       "      <td>21980</td>\n",
       "      <td>PACK OF 12 RED RETROSPOT TISSUES</td>\n",
       "      <td>-24</td>\n",
       "      <td>12/1/2010 10:24</td>\n",
       "      <td>0.29</td>\n",
       "      <td>17548.0</td>\n",
       "      <td>United Kingdom</td>\n",
       "      <td>-6.96</td>\n",
       "      <td>-6.96</td>\n",
       "    </tr>\n",
       "  </tbody>\n",
       "</table>\n",
       "</div>"
      ],
      "text/plain": [
       "    InvoiceNo StockCode                        Description  Quantity  \\\n",
       "154   C536383    35004C    SET OF 3 COLOURED  FLYING DUCKS        -1   \n",
       "235   C536391     22556     PLASTERS IN TIN CIRCUS PARADE        -12   \n",
       "236   C536391     21984   PACK OF 12 PINK PAISLEY TISSUES        -24   \n",
       "237   C536391     21983   PACK OF 12 BLUE PAISLEY TISSUES        -24   \n",
       "238   C536391     21980  PACK OF 12 RED RETROSPOT TISSUES        -24   \n",
       "\n",
       "         InvoiceDate  UnitPrice  CustomerID         Country  Total_Price  \\\n",
       "154   12/1/2010 9:49       4.65     15311.0  United Kingdom        -4.65   \n",
       "235  12/1/2010 10:24       1.65     17548.0  United Kingdom       -19.80   \n",
       "236  12/1/2010 10:24       0.29     17548.0  United Kingdom        -6.96   \n",
       "237  12/1/2010 10:24       0.29     17548.0  United Kingdom        -6.96   \n",
       "238  12/1/2010 10:24       0.29     17548.0  United Kingdom        -6.96   \n",
       "\n",
       "     Total_price  \n",
       "154        -4.65  \n",
       "235       -19.80  \n",
       "236        -6.96  \n",
       "237        -6.96  \n",
       "238        -6.96  "
      ]
     },
     "execution_count": 56,
     "metadata": {},
     "output_type": "execute_result"
    }
   ],
   "source": [
    "df_back['Total_Price'] = df_back['Quantity'] * df_back['UnitPrice']\n",
    "df_back.head()"
   ]
  },
  {
   "cell_type": "code",
   "execution_count": 59,
   "id": "af9de5fc-8e8f-440c-b92b-c9602be8bf7a",
   "metadata": {},
   "outputs": [
    {
     "data": {
      "text/html": [
       "<div>\n",
       "<style scoped>\n",
       "    .dataframe tbody tr th:only-of-type {\n",
       "        vertical-align: middle;\n",
       "    }\n",
       "\n",
       "    .dataframe tbody tr th {\n",
       "        vertical-align: top;\n",
       "    }\n",
       "\n",
       "    .dataframe thead th {\n",
       "        text-align: right;\n",
       "    }\n",
       "</style>\n",
       "<table border=\"1\" class=\"dataframe\">\n",
       "  <thead>\n",
       "    <tr style=\"text-align: right;\">\n",
       "      <th></th>\n",
       "      <th>InvoiceNo</th>\n",
       "      <th>StockCode</th>\n",
       "      <th>Description</th>\n",
       "      <th>Quantity</th>\n",
       "      <th>InvoiceDate</th>\n",
       "      <th>UnitPrice</th>\n",
       "      <th>CustomerID</th>\n",
       "      <th>Country</th>\n",
       "      <th>Total_Price</th>\n",
       "    </tr>\n",
       "  </thead>\n",
       "  <tbody>\n",
       "    <tr>\n",
       "      <th>154</th>\n",
       "      <td>C536383</td>\n",
       "      <td>35004C</td>\n",
       "      <td>SET OF 3 COLOURED  FLYING DUCKS</td>\n",
       "      <td>-1</td>\n",
       "      <td>12/1/2010 9:49</td>\n",
       "      <td>4.65</td>\n",
       "      <td>15311.0</td>\n",
       "      <td>United Kingdom</td>\n",
       "      <td>-4.65</td>\n",
       "    </tr>\n",
       "    <tr>\n",
       "      <th>235</th>\n",
       "      <td>C536391</td>\n",
       "      <td>22556</td>\n",
       "      <td>PLASTERS IN TIN CIRCUS PARADE</td>\n",
       "      <td>-12</td>\n",
       "      <td>12/1/2010 10:24</td>\n",
       "      <td>1.65</td>\n",
       "      <td>17548.0</td>\n",
       "      <td>United Kingdom</td>\n",
       "      <td>-19.80</td>\n",
       "    </tr>\n",
       "    <tr>\n",
       "      <th>236</th>\n",
       "      <td>C536391</td>\n",
       "      <td>21984</td>\n",
       "      <td>PACK OF 12 PINK PAISLEY TISSUES</td>\n",
       "      <td>-24</td>\n",
       "      <td>12/1/2010 10:24</td>\n",
       "      <td>0.29</td>\n",
       "      <td>17548.0</td>\n",
       "      <td>United Kingdom</td>\n",
       "      <td>-6.96</td>\n",
       "    </tr>\n",
       "    <tr>\n",
       "      <th>237</th>\n",
       "      <td>C536391</td>\n",
       "      <td>21983</td>\n",
       "      <td>PACK OF 12 BLUE PAISLEY TISSUES</td>\n",
       "      <td>-24</td>\n",
       "      <td>12/1/2010 10:24</td>\n",
       "      <td>0.29</td>\n",
       "      <td>17548.0</td>\n",
       "      <td>United Kingdom</td>\n",
       "      <td>-6.96</td>\n",
       "    </tr>\n",
       "    <tr>\n",
       "      <th>238</th>\n",
       "      <td>C536391</td>\n",
       "      <td>21980</td>\n",
       "      <td>PACK OF 12 RED RETROSPOT TISSUES</td>\n",
       "      <td>-24</td>\n",
       "      <td>12/1/2010 10:24</td>\n",
       "      <td>0.29</td>\n",
       "      <td>17548.0</td>\n",
       "      <td>United Kingdom</td>\n",
       "      <td>-6.96</td>\n",
       "    </tr>\n",
       "  </tbody>\n",
       "</table>\n",
       "</div>"
      ],
      "text/plain": [
       "    InvoiceNo StockCode                        Description  Quantity  \\\n",
       "154   C536383    35004C    SET OF 3 COLOURED  FLYING DUCKS        -1   \n",
       "235   C536391     22556     PLASTERS IN TIN CIRCUS PARADE        -12   \n",
       "236   C536391     21984   PACK OF 12 PINK PAISLEY TISSUES        -24   \n",
       "237   C536391     21983   PACK OF 12 BLUE PAISLEY TISSUES        -24   \n",
       "238   C536391     21980  PACK OF 12 RED RETROSPOT TISSUES        -24   \n",
       "\n",
       "         InvoiceDate  UnitPrice  CustomerID         Country  Total_Price  \n",
       "154   12/1/2010 9:49       4.65     15311.0  United Kingdom        -4.65  \n",
       "235  12/1/2010 10:24       1.65     17548.0  United Kingdom       -19.80  \n",
       "236  12/1/2010 10:24       0.29     17548.0  United Kingdom        -6.96  \n",
       "237  12/1/2010 10:24       0.29     17548.0  United Kingdom        -6.96  \n",
       "238  12/1/2010 10:24       0.29     17548.0  United Kingdom        -6.96  "
      ]
     },
     "execution_count": 59,
     "metadata": {},
     "output_type": "execute_result"
    }
   ],
   "source": [
    "df_back = df_back.drop('Total_price',axis=1)\n",
    "df_back.head()"
   ]
  },
  {
   "cell_type": "code",
   "execution_count": 62,
   "id": "9cc68e7c-5640-45df-8ca4-faf3c2cd7433",
   "metadata": {},
   "outputs": [],
   "source": [
    "miss = df_back['Total_Price'].sum()"
   ]
  },
  {
   "cell_type": "code",
   "execution_count": null,
   "id": "0f721e26-d2f2-4cfb-9944-a6c75e34cfe1",
   "metadata": {},
   "outputs": [],
   "source": []
  },
  {
   "cell_type": "markdown",
   "id": "853c1328-25eb-42f5-b91c-81b7c4e761ae",
   "metadata": {},
   "source": [
    "Магазин с возвратов потерял 605645,87 единиц денег\n"
   ]
  },
  {
   "cell_type": "code",
   "execution_count": 64,
   "id": "d5a6d9ba-3b98-4b7f-bc70-aa653fdf442b",
   "metadata": {},
   "outputs": [
    {
     "data": {
      "text/plain": [
       "np.float64(11.60854064995076)"
      ]
     },
     "execution_count": 64,
     "metadata": {},
     "output_type": "execute_result"
    }
   ],
   "source": [
    "abs(miss) / revenue_s * 100"
   ]
  },
  {
   "cell_type": "markdown",
   "id": "87df47ee-1435-4e09-b27b-61527b23c2a2",
   "metadata": {},
   "source": [
    "В процентном соотношении, на возвратах магазин потерял 11% от текущей выручки. Это очень много!"
   ]
  },
  {
   "cell_type": "markdown",
   "id": "f4b1f373-5ded-4c48-b1a2-a6106b4dbc20",
   "metadata": {},
   "source": [
    "Посмотрим лидеры товаров по возвратам"
   ]
  },
  {
   "cell_type": "code",
   "execution_count": 74,
   "id": "502c8b85-4976-49d6-99ee-d28dabc394d7",
   "metadata": {},
   "outputs": [
    {
     "data": {
      "text/html": [
       "<div>\n",
       "<style scoped>\n",
       "    .dataframe tbody tr th:only-of-type {\n",
       "        vertical-align: middle;\n",
       "    }\n",
       "\n",
       "    .dataframe tbody tr th {\n",
       "        vertical-align: top;\n",
       "    }\n",
       "\n",
       "    .dataframe thead th {\n",
       "        text-align: right;\n",
       "    }\n",
       "</style>\n",
       "<table border=\"1\" class=\"dataframe\">\n",
       "  <thead>\n",
       "    <tr style=\"text-align: right;\">\n",
       "      <th></th>\n",
       "      <th>Description</th>\n",
       "      <th>Quantity</th>\n",
       "    </tr>\n",
       "  </thead>\n",
       "  <tbody>\n",
       "    <tr>\n",
       "      <th>0</th>\n",
       "      <td>PAPER CRAFT , LITTLE BIRDIE</td>\n",
       "      <td>-80995</td>\n",
       "    </tr>\n",
       "    <tr>\n",
       "      <th>1</th>\n",
       "      <td>MEDIUM CERAMIC TOP STORAGE JAR</td>\n",
       "      <td>-74494</td>\n",
       "    </tr>\n",
       "    <tr>\n",
       "      <th>2</th>\n",
       "      <td>ROTATING SILVER ANGELS T-LIGHT HLDR</td>\n",
       "      <td>-9367</td>\n",
       "    </tr>\n",
       "    <tr>\n",
       "      <th>3</th>\n",
       "      <td>Manual</td>\n",
       "      <td>-3995</td>\n",
       "    </tr>\n",
       "    <tr>\n",
       "      <th>4</th>\n",
       "      <td>FAIRY CAKE FLANNEL ASSORTED COLOUR</td>\n",
       "      <td>-3150</td>\n",
       "    </tr>\n",
       "  </tbody>\n",
       "</table>\n",
       "</div>"
      ],
      "text/plain": [
       "                           Description  Quantity\n",
       "0          PAPER CRAFT , LITTLE BIRDIE    -80995\n",
       "1       MEDIUM CERAMIC TOP STORAGE JAR    -74494\n",
       "2  ROTATING SILVER ANGELS T-LIGHT HLDR     -9367\n",
       "3                               Manual     -3995\n",
       "4   FAIRY CAKE FLANNEL ASSORTED COLOUR     -3150"
      ]
     },
     "execution_count": 74,
     "metadata": {},
     "output_type": "execute_result"
    }
   ],
   "source": [
    "returns = df_back.groupby('Description')['Quantity'].sum().sort_values().reset_index()\n",
    "returns.head()"
   ]
  },
  {
   "cell_type": "markdown",
   "id": "4aa503d3-a692-4ace-a5ec-70bae56566b8",
   "metadata": {},
   "source": [
    "Выше представлен топ-5 самых возвращаемых товаров магазина. Возможно, необходимо снизить на них стоимость, чтобы предотвратить такой массовый возврат, либо проблемы в качестве товара. Необходимо провести его диагностику и ознакомиться с отзывами покупателей."
   ]
  },
  {
   "cell_type": "markdown",
   "id": "dbeec71a-dedb-44f4-a643-f727db1172bf",
   "metadata": {},
   "source": [
    "Посмотрим, есть ли клиенты с аномальным количеством возвратов"
   ]
  },
  {
   "cell_type": "code",
   "execution_count": 77,
   "id": "e6ae7320-eda7-44a4-a62e-9a89f61dff4a",
   "metadata": {},
   "outputs": [
    {
     "data": {
      "text/html": [
       "<div>\n",
       "<style scoped>\n",
       "    .dataframe tbody tr th:only-of-type {\n",
       "        vertical-align: middle;\n",
       "    }\n",
       "\n",
       "    .dataframe tbody tr th {\n",
       "        vertical-align: top;\n",
       "    }\n",
       "\n",
       "    .dataframe thead th {\n",
       "        text-align: right;\n",
       "    }\n",
       "</style>\n",
       "<table border=\"1\" class=\"dataframe\">\n",
       "  <thead>\n",
       "    <tr style=\"text-align: right;\">\n",
       "      <th></th>\n",
       "      <th>CustomerID</th>\n",
       "      <th>Quantity</th>\n",
       "    </tr>\n",
       "  </thead>\n",
       "  <tbody>\n",
       "    <tr>\n",
       "      <th>0</th>\n",
       "      <td>16446.0</td>\n",
       "      <td>-80995</td>\n",
       "    </tr>\n",
       "    <tr>\n",
       "      <th>1</th>\n",
       "      <td>12346.0</td>\n",
       "      <td>-74215</td>\n",
       "    </tr>\n",
       "    <tr>\n",
       "      <th>2</th>\n",
       "      <td>15838.0</td>\n",
       "      <td>-9360</td>\n",
       "    </tr>\n",
       "    <tr>\n",
       "      <th>3</th>\n",
       "      <td>15749.0</td>\n",
       "      <td>-9014</td>\n",
       "    </tr>\n",
       "    <tr>\n",
       "      <th>4</th>\n",
       "      <td>16029.0</td>\n",
       "      <td>-8007</td>\n",
       "    </tr>\n",
       "    <tr>\n",
       "      <th>...</th>\n",
       "      <td>...</td>\n",
       "      <td>...</td>\n",
       "    </tr>\n",
       "    <tr>\n",
       "      <th>1580</th>\n",
       "      <td>13154.0</td>\n",
       "      <td>-1</td>\n",
       "    </tr>\n",
       "    <tr>\n",
       "      <th>1581</th>\n",
       "      <td>16428.0</td>\n",
       "      <td>-1</td>\n",
       "    </tr>\n",
       "    <tr>\n",
       "      <th>1582</th>\n",
       "      <td>16419.0</td>\n",
       "      <td>-1</td>\n",
       "    </tr>\n",
       "    <tr>\n",
       "      <th>1583</th>\n",
       "      <td>13141.0</td>\n",
       "      <td>-1</td>\n",
       "    </tr>\n",
       "    <tr>\n",
       "      <th>1584</th>\n",
       "      <td>14085.0</td>\n",
       "      <td>-1</td>\n",
       "    </tr>\n",
       "  </tbody>\n",
       "</table>\n",
       "<p>1585 rows × 2 columns</p>\n",
       "</div>"
      ],
      "text/plain": [
       "      CustomerID  Quantity\n",
       "0        16446.0    -80995\n",
       "1        12346.0    -74215\n",
       "2        15838.0     -9360\n",
       "3        15749.0     -9014\n",
       "4        16029.0     -8007\n",
       "...          ...       ...\n",
       "1580     13154.0        -1\n",
       "1581     16428.0        -1\n",
       "1582     16419.0        -1\n",
       "1583     13141.0        -1\n",
       "1584     14085.0        -1\n",
       "\n",
       "[1585 rows x 2 columns]"
      ]
     },
     "execution_count": 77,
     "metadata": {},
     "output_type": "execute_result"
    }
   ],
   "source": [
    "returns_clients = df_back.groupby('CustomerID')['Quantity'].sum().sort_values().reset_index()\n",
    "returns_clients"
   ]
  },
  {
   "cell_type": "code",
   "execution_count": 78,
   "id": "90fcbf3c-7d19-406b-a3c0-06fc15140962",
   "metadata": {},
   "outputs": [
    {
     "data": {
      "text/html": [
       "<div>\n",
       "<style scoped>\n",
       "    .dataframe tbody tr th:only-of-type {\n",
       "        vertical-align: middle;\n",
       "    }\n",
       "\n",
       "    .dataframe tbody tr th {\n",
       "        vertical-align: top;\n",
       "    }\n",
       "\n",
       "    .dataframe thead th {\n",
       "        text-align: right;\n",
       "    }\n",
       "</style>\n",
       "<table border=\"1\" class=\"dataframe\">\n",
       "  <thead>\n",
       "    <tr style=\"text-align: right;\">\n",
       "      <th></th>\n",
       "      <th>CustomerID</th>\n",
       "      <th>Quantity</th>\n",
       "    </tr>\n",
       "  </thead>\n",
       "  <tbody>\n",
       "    <tr>\n",
       "      <th>count</th>\n",
       "      <td>1585.000000</td>\n",
       "      <td>1585.000000</td>\n",
       "    </tr>\n",
       "    <tr>\n",
       "      <th>mean</th>\n",
       "      <td>15187.145110</td>\n",
       "      <td>-172.627129</td>\n",
       "    </tr>\n",
       "    <tr>\n",
       "      <th>std</th>\n",
       "      <td>1723.325841</td>\n",
       "      <td>2792.976815</td>\n",
       "    </tr>\n",
       "    <tr>\n",
       "      <th>min</th>\n",
       "      <td>12346.000000</td>\n",
       "      <td>-80995.000000</td>\n",
       "    </tr>\n",
       "    <tr>\n",
       "      <th>25%</th>\n",
       "      <td>13717.000000</td>\n",
       "      <td>-26.000000</td>\n",
       "    </tr>\n",
       "    <tr>\n",
       "      <th>50%</th>\n",
       "      <td>15140.000000</td>\n",
       "      <td>-8.000000</td>\n",
       "    </tr>\n",
       "    <tr>\n",
       "      <th>75%</th>\n",
       "      <td>16669.000000</td>\n",
       "      <td>-3.000000</td>\n",
       "    </tr>\n",
       "    <tr>\n",
       "      <th>max</th>\n",
       "      <td>18282.000000</td>\n",
       "      <td>-1.000000</td>\n",
       "    </tr>\n",
       "  </tbody>\n",
       "</table>\n",
       "</div>"
      ],
      "text/plain": [
       "         CustomerID      Quantity\n",
       "count   1585.000000   1585.000000\n",
       "mean   15187.145110   -172.627129\n",
       "std     1723.325841   2792.976815\n",
       "min    12346.000000 -80995.000000\n",
       "25%    13717.000000    -26.000000\n",
       "50%    15140.000000     -8.000000\n",
       "75%    16669.000000     -3.000000\n",
       "max    18282.000000     -1.000000"
      ]
     },
     "execution_count": 78,
     "metadata": {},
     "output_type": "execute_result"
    }
   ],
   "source": [
    "returns_clients.describe()"
   ]
  },
  {
   "cell_type": "markdown",
   "id": "3b6a2f29-e9af-4621-9ad3-14371a98d7ce",
   "metadata": {},
   "source": [
    "- В среднем на 1 клиента приходится 8 возвратов, что очень много, возможно, стоит задуматься о качестве продукции магазина.\n",
    "- Клиенты с аномальным количеством возвратов, скорее всего, являются оптовыми закупщиками, с которыми необходимо связаться для уточнения деталей возврата."
   ]
  },
  {
   "cell_type": "code",
   "execution_count": 79,
   "id": "8add4c4f-6cc5-4685-908c-f7eb1577b7e6",
   "metadata": {},
   "outputs": [
    {
     "data": {
      "image/png": "[encoded data removed]",
      "text/plain": [
       "<Figure size 1200x600 with 1 Axes>"
      ]
     },
     "metadata": {},
     "output_type": "display_data"
    }
   ],
   "source": [
    "\n",
    "df_back['InvoiceDate'] = pd.to_datetime(df_back['InvoiceDate'])\n",
    "\n",
    "\n",
    "df_back['YearMonth'] = df_back['InvoiceDate'].dt.to_period('M')\n",
    "\n",
    "\n",
    "returns_by_month = df_back.groupby('YearMonth')['Quantity'].sum().reset_index()\n",
    "returns_by_month['Quantity'] = returns_by_month['Quantity'].abs()\n",
    "\n",
    "\n",
    "plt.figure(figsize=(12, 6))\n",
    "plt.plot(returns_by_month['YearMonth'].astype(str), returns_by_month['Quantity'], marker='o')\n",
    "plt.xticks(rotation=45)\n",
    "plt.xlabel('Месяц')\n",
    "plt.ylabel('Количество возвратов')\n",
    "plt.title('Возвраты по месяцам')\n",
    "plt.tight_layout()\n",
    "plt.savefig('returns_by_month.png')\n",
    "plt.show()"
   ]
  },
  {
   "cell_type": "markdown",
   "id": "19680eaa-2621-4cdb-94a8-d996d5c6cd9e",
   "metadata": {},
   "source": [
    "Декабрь:\n",
    "\n",
    "Декабрь — это пик предпраздничных покупок, особенно перед Рождеством и Новым годом. Клиенты часто покупают подарки, что увеличивает объем продаж.\n",
    "Возвраты в декабре могут быть связаны с:\n",
    "- Ошибками в заказах (например, клиент заказал не тот товар в спешке).\n",
    "- Проблемами с доставкой (логистические задержки из-за высокого спроса).\n",
    "- Повреждением товаров во время доставки из-за перегрузки курьерских служб.\n",
    "\n",
    "\n",
    "Январь:\n",
    "\n",
    "Январь — это период после праздников, когда клиенты возвращают подарки, которые не подошли, или товары, купленные в декабре.\n",
    "Возвраты в январе могут быть вызваны:\n",
    "- Несоответствием ожиданиям (например, подарок не понравился получателю).\n",
    "- Дефектными товарами, выявленными после использования."
   ]
  },
  {
   "cell_type": "code",
   "execution_count": null,
   "id": "8572e60c-3657-4057-afd0-fb083a3d68be",
   "metadata": {},
   "outputs": [],
   "source": []
  },
  {
   "cell_type": "code",
   "execution_count": null,
   "id": "55d188e8-5325-4cf8-9bd7-954f6254585b",
   "metadata": {},
   "outputs": [],
   "source": []
  }
 ],
 "metadata": {
  "kernelspec": {
   "display_name": "Python 3 (ipykernel)",
   "language": "python",
   "name": "python3"
  },
  "language_info": {
   "codemirror_mode": {
    "name": "ipython",
    "version": 3
   },
   "file_extension": ".py",
   "mimetype": "text/x-python",
   "name": "python",
   "nbconvert_exporter": "python",
   "pygments_lexer": "ipython3",
   "version": "3.13.3"
  }
 },
 "nbformat": 4,
 "nbformat_minor": 5
}
